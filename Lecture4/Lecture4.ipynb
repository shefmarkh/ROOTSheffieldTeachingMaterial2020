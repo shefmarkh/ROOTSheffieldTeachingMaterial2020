{
 "cells": [
  {
   "cell_type": "code",
   "execution_count": null,
   "metadata": {},
   "outputs": [],
   "source": [
    "#Again we use the \"!\" command to specify we want to execute commands via the terminal, outside python\n",
    "#rootls is an example of a root command line tool: \n",
    "#https://root.cern/manual/storing_root_objects/#root-command-line-tools\n",
    "#Allows to run common operations from the linux/mac terminal, without running ROOT or python directly.\n",
    "! rootls ../Lecture1/tree2.root"
   ]
  },
  {
   "cell_type": "code",
   "execution_count": null,
   "metadata": {},
   "outputs": [],
   "source": [
    "#To do the same in python we would have to type:\n",
    "from ROOT import TFile\n",
    "myFile = TFile.Open(\"../Lecture1/tree2.root\")\n",
    "#Note the output is a bit more detailed though\n",
    "myFile.ls()"
   ]
  },
  {
   "cell_type": "code",
   "execution_count": null,
   "metadata": {},
   "outputs": [],
   "source": [
    "#\"make\" is a standard command to build an executable, which you can run. An executable can be thought of as a \n",
    "#translation of your computer code into something the computer can understand. When using python this happens in\n",
    "#real time, behind the scenes.\n",
    "#The \"!\" tells Jupyter to run the command in the underlying terminal.\n",
    "! make \n",
    "#You can see the commands \"make\" actually runs printed below.\n",
    "#Lots of options passed to g++ (don't worry about these) - the important part is it creates library files (*.d,*.o)\n",
    "#and eventually an executable which you run (\"myROOTCommand\")"
   ]
  },
  {
   "cell_type": "code",
   "execution_count": null,
   "metadata": {},
   "outputs": [],
   "source": [
    "#Run the command in the terminal, and we see what it does.\n",
    "! ./myROOTCommand ../Lecture1/tree2.root t2"
   ]
  },
  {
   "cell_type": "code",
   "execution_count": null,
   "metadata": {},
   "outputs": [],
   "source": [
    "#We can also make a python shortcut command!\n",
    "#Note in linux you can skip the \"python3\" part (needed in Jupyter on mybinder!)\n",
    "! python3 ./myROOTCommand.py ../Lecture1/tree2.root t2"
   ]
  },
  {
   "cell_type": "code",
   "execution_count": null,
   "metadata": {},
   "outputs": [],
   "source": [
    "#Task 1\n",
    "#Make your own python shortcut command which draws an arbitrary variable from the TTree in tree2.root"
   ]
  },
  {
   "cell_type": "code",
   "execution_count": null,
   "metadata": {},
   "outputs": [],
   "source": [
    "#Now lets use uproot - note there is no c++ version! Python only.\n",
    "import uproot\n",
    "#Load the TTree from the ATLAS open data (note the miniTree variable is NOT of type TTree - we are now\n",
    "#in the uproot ecosystem and not in the ROOT ecosystem\n",
    "miniTreeZmumu = uproot.open(\"http://opendata.atlas.cern/release/samples/MC/mc_147771.Zmumu.root\")[\"mini\"]\n",
    "#Lets print the variables in the TTree\n",
    "miniTreeZmumu.keys()\n",
    "#note these variables are defined at http://opendata.atlas.cern/books/current/openatlasdatatools/_book/variable_names.html"
   ]
  },
  {
   "cell_type": "code",
   "execution_count": null,
   "metadata": {},
   "outputs": [],
   "source": [
    "#choose which variables we want to use\n",
    "#For each event with jets, we get an array of size alljet_n (NOT jet_N!)\n",
    "#entry_stop restricts the number of entries to use (just done to make example run faster...)\n",
    "#library set to 'pd' gives us a pandas dataframe\n",
    "df_Zmumu = miniTreeZmumu.arrays([\"alljet_n\",\"jet_pt\"],library='pd',entry_stop=1000)\n",
    "df_Zmumu"
   ]
  },
  {
   "cell_type": "code",
   "execution_count": null,
   "metadata": {},
   "outputs": [],
   "source": [
    "#In my notebook, had to run this cell twice to get the histograms to display...\n",
    "df_Zmumu.hist(\"alljet_n\")"
   ]
  },
  {
   "cell_type": "code",
   "execution_count": null,
   "metadata": {},
   "outputs": [],
   "source": [
    "miniTreeTTbar = uproot.open(\"http://opendata.atlas.cern/release/samples/MC/mc_117049.ttbar_had.root\")[\"mini\"]\n",
    "df_ttbar = miniTreeTTbar.arrays([\"alljet_n\",\"jet_pt\"],library='pd',entry_stop=1000)\n",
    "#jet_pt is an \"awkward array\" (i.e of variable size), stored as a series\n",
    "#so we have to use this procedure to flatten it to a 1-D array that \n",
    "#the hist function would use.\n",
    "jet_pt = (df_ttbar['jet_pt']).to_numpy()\n",
    "import awkward, matplotlib.pylab as plt\n",
    "\n",
    "jet_ptHist = plt.hist(jet_pt,bins=100)\n",
    "#Other variable types can be histogrammed directly using the pandas array\n",
    "df_ttbar.hist(\"alljet_n\",bins=10)"
   ]
  },
  {
   "cell_type": "code",
   "execution_count": null,
   "metadata": {},
   "outputs": [],
   "source": [
    "#Task 2\n",
    "#Try making some histograms of other quantities in the open data.\n",
    "#Can you reproduce plots we saw in earlier Lectures with .../Lecture1/tree2.root using uproot and matplotlib?"
   ]
  },
  {
   "cell_type": "code",
   "execution_count": null,
   "metadata": {},
   "outputs": [],
   "source": [
    "df_Zmumu=df_Zmumu.assign(signal=1)\n",
    "df_ttbar=df_ttbar.assign(signal=0)\n",
    "df_list = [df_Zmumu,df_ttbar]\n",
    "import pandas\n",
    "df_all = pandas.concat(df_list)\n",
    "df_all"
   ]
  },
  {
   "cell_type": "code",
   "execution_count": null,
   "metadata": {},
   "outputs": [],
   "source": [
    "jet_pt_all = (df_all['jet_pt']).to_numpy()\n",
    "jet_ptHist_all = plt.hist(jet_pt_all,bins=100,range=[0,200000])"
   ]
  },
  {
   "cell_type": "code",
   "execution_count": null,
   "metadata": {},
   "outputs": [],
   "source": [
    "df_all.hist(\"signal\")"
   ]
  },
  {
   "cell_type": "code",
   "execution_count": null,
   "metadata": {},
   "outputs": [],
   "source": [
    "from keras.layers import Dense\n",
    "from keras.models import Sequential\n",
    "model = Sequential()\n",
    "model.add(Dense(12,input_dim=2,activation='relu'))\n",
    "model.add(Dense(8, activation='relu'))\n",
    "model.add(Dense(1, activation='sigmoid'))"
   ]
  },
  {
   "cell_type": "code",
   "execution_count": null,
   "metadata": {},
   "outputs": [],
   "source": [
    "dataset = df_all.values\n",
    "X = dataset[:,0:2]\n",
    "Y = dataset[:,2]\n",
    "X.shape[1]"
   ]
  },
  {
   "cell_type": "code",
   "execution_count": null,
   "metadata": {},
   "outputs": [],
   "source": [
    "model.compile(loss=\"binary_crossentropy\",optimizer='adam',metrics=['accuracy'])\n",
    "model.fit(X,Y,epochs=1,batch_size=10)"
   ]
  },
  {
   "cell_type": "code",
   "execution_count": null,
   "metadata": {},
   "outputs": [],
   "source": [
    "scores = model.evaluate(X,Y)"
   ]
  },
  {
   "cell_type": "code",
   "execution_count": null,
   "metadata": {},
   "outputs": [],
   "source": [
    "print(\"\\n%s: %.2f%%\" % (model.metrics_names[1],scores[1]*100))"
   ]
  },
  {
   "cell_type": "code",
   "execution_count": null,
   "metadata": {},
   "outputs": [],
   "source": [
    "predictions = model.predict(X)\n",
    "for i in range(5000):\n",
    "\tprint('Data of %s was predicted to be %d (and expected to be %d)' % (X[i].tolist(), predictions[i], Y[i]))\n"
   ]
  },
  {
   "cell_type": "code",
   "execution_count": null,
   "metadata": {},
   "outputs": [],
   "source": [
    "#Task 3\n",
    "#Try using different variables and options and see if you can get something working better\n",
    "#You may need to reset and clear the notebook to get the below to work - some of the above code seems to interfere"
   ]
  },
  {
   "cell_type": "code",
   "execution_count": null,
   "metadata": {},
   "outputs": [],
   "source": [
    "from ROOT import TMVA,TFile\n",
    "#Create a DataLoader object and add signal and backgrond TTree to it\n",
    "dataLoader = TMVA.DataLoader(\"dataset\")\n",
    "#We use a ROOT file with both signal and background trees - these correspond to signal and background classified\n",
    "#calorimeter clusters\n",
    "myFile = TFile.Open(\"MVATree_FirstEvent_0_LastEvent_10000.root\")\n",
    "signalTree = myFile.Get(\"signal;1\")\n",
    "backgroundTree = myFile.Get(\"background;1\")\n",
    "dataLoader.AddBackgroundTree(backgroundTree)\n",
    "dataLoader.AddSignalTree(signalTree)\n",
    "#Choose some variables to use in our classifier (BDT, NN etc)\n",
    "dataLoader.AddVariable(\"emFracEnhanced\",'F')\n",
    "#dataLoader.AddVariable(\"emFracEnhanced\",'F')\n",
    "dataLoader.AddVariable(\"eng_frac_core\",'F')\n",
    "dataLoader.AddVariable(\"centerLambda\",'F')\n",
    "outputFile = TFile(\"model.root\",\"RECREATE\")\n",
    "classification = TMVA.Experimental.Classification(dataLoader,outputFile,\"Jobs=1\")\n",
    "classification.BookMethod(TMVA.Types.kBDT, \"BDTG\", \"!H:!V:NTrees=2000:MinNodeSize=2.5%:BoostType=Grad:Shrinkage=0.10:\"\n",
    "                                             \"UseBaggedBoost:BaggedSampleFraction=0.5:nCuts=20:MaxDepth=2\")\n",
    "#Restrict how many events we use for testing and training (const TCut &cut, Int_t NsigTrain, Int_t NbkgTrain, \n",
    "#Int_t NsigTest, Int_t NbkgTest)\n",
    "dataLoader.PrepareTrainingAndTestTree(\"\",100,100,100,100)\n",
    "classification.Evaluate()\n",
    "outputFile.Close()"
   ]
  },
  {
   "cell_type": "code",
   "execution_count": null,
   "metadata": {},
   "outputs": [],
   "source": [
    "#Get a vector of results (of size 1 in our case because we only trained one classifier)\n",
    "results = classification.GetResults()\n",
    "#Get a ROC graph and draw it\n",
    "BDT_ROC_Graph = results[0].GetROCGraph()\n",
    "from ROOT import TCanvas\n",
    "canPython = TCanvas()\n",
    "BDT_ROC_Graph.Draw()\n",
    "canPython.Draw()"
   ]
  },
  {
   "cell_type": "raw",
   "metadata": {},
   "source": [
    "#Task 4 - take a look in the ROOT TTree and try different variable choices, different numbers of variables etc to see how it alters the performance."
   ]
  },
  {
   "cell_type": "code",
   "execution_count": null,
   "metadata": {},
   "outputs": [],
   "source": []
  }
 ],
 "metadata": {
  "kernelspec": {
   "display_name": "Python 3 (ipykernel)",
   "language": "python",
   "name": "python3"
  },
  "language_info": {
   "codemirror_mode": {
    "name": "ipython",
    "version": 3
   },
   "file_extension": ".py",
   "mimetype": "text/x-python",
   "name": "python",
   "nbconvert_exporter": "python",
   "pygments_lexer": "ipython3",
   "version": "3.9.6"
  }
 },
 "nbformat": 4,
 "nbformat_minor": 2
}
