{
 "cells": [
  {
   "cell_type": "code",
   "execution_count": null,
   "metadata": {},
   "outputs": [],
   "source": [
    "#Again we use the \"!\" command to specify we want to execute commands via the terminal, outside python\n",
    "#rootls is an example of a root command line tool: \n",
    "#https://root.cern/manual/storing_root_objects/#root-command-line-tools\n",
    "#Allows to run common operations from the linux/mac terminal, without running ROOT or python directly.\n",
    "! rootls ../Lecture1/tree2.root"
   ]
  },
  {
   "cell_type": "code",
   "execution_count": null,
   "metadata": {},
   "outputs": [],
   "source": [
    "#To do the same in python we would have to type:\n",
    "from ROOT import TFile\n",
    "myFile = TFile.Open(\"../Lecture1/tree2.root\")\n",
    "#Note the output is a bit more detailed though\n",
    "myFile.ls()"
   ]
  },
  {
   "cell_type": "code",
   "execution_count": null,
   "metadata": {},
   "outputs": [],
   "source": [
    "#\"make\" is a standard command to build an executable, which you can run. An executable can be thought of as a \n",
    "#translation of your computer code into something the computer can understand. When using python this happens in\n",
    "#real time, behind the scenes.\n",
    "#The \"!\" tells Jupyter to run the command in the underlying terminal.\n",
    "! make \n",
    "#You can see the commands \"make\" actually runs printed below.\n",
    "#Lots of options passed to g++ (don't worry about these) - the important part is it creates library files (*.d,*.o)\n",
    "#and eventually an executable which you run (\"myROOTCommand\")"
   ]
  },
  {
   "cell_type": "code",
   "execution_count": null,
   "metadata": {},
   "outputs": [],
   "source": [
    "#Run the command in the terminal, and we see what it does.\n",
    "! ./myROOTCommand ../Lecture1/tree2.root t2"
   ]
  },
  {
   "cell_type": "code",
   "execution_count": null,
   "metadata": {},
   "outputs": [],
   "source": [
    "#We can also make a python shortcut command!\n",
    "#Note in linux you can skip the \"python3\" part (needed in Jupyter on mybinder!)\n",
    "! python3 ./myROOTCommand.py ../Lecture1/tree2.root t2"
   ]
  },
  {
   "cell_type": "code",
   "execution_count": null,
   "metadata": {},
   "outputs": [],
   "source": [
    "#Task 1\n",
    "#Make your own python shortcut command which draws an arbitrary variable from the TTree in tree2.root"
   ]
  },
  {
   "cell_type": "code",
   "execution_count": 1,
   "metadata": {},
   "outputs": [
    {
     "data": {
      "text/plain": [
       "['runNumber',\n",
       " 'eventNumber',\n",
       " 'channelNumber',\n",
       " 'mcWeight',\n",
       " 'scaleFactor_PILEUP',\n",
       " 'scaleFactor_ELE',\n",
       " 'scaleFactor_MUON',\n",
       " 'scaleFactor_PHOTON',\n",
       " 'scaleFactor_TAU',\n",
       " 'scaleFactor_BTAG',\n",
       " 'scaleFactor_LepTRIGGER',\n",
       " 'scaleFactor_PhotonTRIGGER',\n",
       " 'trigE',\n",
       " 'trigM',\n",
       " 'trigP',\n",
       " 'lep_n',\n",
       " 'lep_truthMatched',\n",
       " 'lep_trigMatched',\n",
       " 'lep_pt',\n",
       " 'lep_eta',\n",
       " 'lep_phi',\n",
       " 'lep_E',\n",
       " 'lep_z0',\n",
       " 'lep_charge',\n",
       " 'lep_type',\n",
       " 'lep_isTightID',\n",
       " 'lep_ptcone30',\n",
       " 'lep_etcone20',\n",
       " 'lep_trackd0pvunbiased',\n",
       " 'lep_tracksigd0pvunbiased',\n",
       " 'met_et',\n",
       " 'met_phi',\n",
       " 'jet_n',\n",
       " 'jet_pt',\n",
       " 'jet_eta',\n",
       " 'jet_phi',\n",
       " 'jet_E',\n",
       " 'jet_jvt',\n",
       " 'jet_trueflav',\n",
       " 'jet_truthMatched',\n",
       " 'jet_MV2c10',\n",
       " 'photon_n',\n",
       " 'photon_truthMatched',\n",
       " 'photon_trigMatched',\n",
       " 'photon_pt',\n",
       " 'photon_eta',\n",
       " 'photon_phi',\n",
       " 'photon_E',\n",
       " 'photon_isTightID',\n",
       " 'photon_ptcone30',\n",
       " 'photon_etcone20',\n",
       " 'photon_convType',\n",
       " 'tau_n',\n",
       " 'tau_pt',\n",
       " 'tau_eta',\n",
       " 'tau_phi',\n",
       " 'tau_E',\n",
       " 'tau_isTightID',\n",
       " 'tau_truthMatched',\n",
       " 'tau_trigMatched',\n",
       " 'tau_nTracks',\n",
       " 'tau_BDTid',\n",
       " 'ditau_m',\n",
       " 'lep_pt_syst',\n",
       " 'met_et_syst',\n",
       " 'jet_pt_syst',\n",
       " 'photon_pt_syst',\n",
       " 'tau_pt_syst',\n",
       " 'XSection',\n",
       " 'SumWeights',\n",
       " 'largeRjet_n',\n",
       " 'largeRjet_pt',\n",
       " 'largeRjet_eta',\n",
       " 'largeRjet_phi',\n",
       " 'largeRjet_E',\n",
       " 'largeRjet_m',\n",
       " 'largeRjet_truthMatched',\n",
       " 'largeRjet_D2',\n",
       " 'largeRjet_tau32',\n",
       " 'largeRjet_pt_syst',\n",
       " 'tau_charge']"
      ]
     },
     "execution_count": 1,
     "metadata": {},
     "output_type": "execute_result"
    }
   ],
   "source": [
    "#Now lets use uproot - note there is no c++ version! Python only.\n",
    "import uproot\n",
    "#Load the TTree from the ATLAS open data (note the miniTree variable is NOT of type TTree - we are now\n",
    "#in the uproot ecosystem and not in the ROOT ecosystem\n",
    "miniTreeZmumu = uproot.open(\"https://atlas-opendata.web.cern.ch/Legacy13TeV/2lep/MC/mc_364100.Zmumu_PTV0_70_CVetoBVeto.2lep.root\")[\"mini\"]\n",
    "#Lets print the variables in the TTree\n",
    "miniTreeZmumu.keys()\n",
    "#note these variables are defined at https://atlas-opendata.web.cern.ch/docs/datasets/dataset13"
   ]
  },
  {
   "cell_type": "code",
   "execution_count": 2,
   "metadata": {},
   "outputs": [
    {
     "data": {
      "text/html": [
       "<div>\n",
       "<style scoped>\n",
       "    .dataframe tbody tr th:only-of-type {\n",
       "        vertical-align: middle;\n",
       "    }\n",
       "\n",
       "    .dataframe tbody tr th {\n",
       "        vertical-align: top;\n",
       "    }\n",
       "\n",
       "    .dataframe thead th {\n",
       "        text-align: right;\n",
       "    }\n",
       "</style>\n",
       "<table border=\"1\" class=\"dataframe\">\n",
       "  <thead>\n",
       "    <tr style=\"text-align: right;\">\n",
       "      <th></th>\n",
       "      <th>lep_n</th>\n",
       "      <th>jet_n</th>\n",
       "    </tr>\n",
       "  </thead>\n",
       "  <tbody>\n",
       "    <tr>\n",
       "      <th>0</th>\n",
       "      <td>2</td>\n",
       "      <td>0</td>\n",
       "    </tr>\n",
       "    <tr>\n",
       "      <th>1</th>\n",
       "      <td>2</td>\n",
       "      <td>2</td>\n",
       "    </tr>\n",
       "    <tr>\n",
       "      <th>2</th>\n",
       "      <td>2</td>\n",
       "      <td>1</td>\n",
       "    </tr>\n",
       "    <tr>\n",
       "      <th>3</th>\n",
       "      <td>2</td>\n",
       "      <td>0</td>\n",
       "    </tr>\n",
       "    <tr>\n",
       "      <th>4</th>\n",
       "      <td>2</td>\n",
       "      <td>0</td>\n",
       "    </tr>\n",
       "    <tr>\n",
       "      <th>...</th>\n",
       "      <td>...</td>\n",
       "      <td>...</td>\n",
       "    </tr>\n",
       "    <tr>\n",
       "      <th>995</th>\n",
       "      <td>2</td>\n",
       "      <td>1</td>\n",
       "    </tr>\n",
       "    <tr>\n",
       "      <th>996</th>\n",
       "      <td>2</td>\n",
       "      <td>0</td>\n",
       "    </tr>\n",
       "    <tr>\n",
       "      <th>997</th>\n",
       "      <td>2</td>\n",
       "      <td>1</td>\n",
       "    </tr>\n",
       "    <tr>\n",
       "      <th>998</th>\n",
       "      <td>2</td>\n",
       "      <td>1</td>\n",
       "    </tr>\n",
       "    <tr>\n",
       "      <th>999</th>\n",
       "      <td>2</td>\n",
       "      <td>1</td>\n",
       "    </tr>\n",
       "  </tbody>\n",
       "</table>\n",
       "<p>1000 rows × 2 columns</p>\n",
       "</div>"
      ],
      "text/plain": [
       "     lep_n  jet_n\n",
       "0        2      0\n",
       "1        2      2\n",
       "2        2      1\n",
       "3        2      0\n",
       "4        2      0\n",
       "..     ...    ...\n",
       "995      2      1\n",
       "996      2      0\n",
       "997      2      1\n",
       "998      2      1\n",
       "999      2      1\n",
       "\n",
       "[1000 rows x 2 columns]"
      ]
     },
     "execution_count": 2,
     "metadata": {},
     "output_type": "execute_result"
    }
   ],
   "source": [
    "#choose which variables we want to use\n",
    "#For each event with jets, we get an array of size alljet_n (NOT jet_N!)\n",
    "#entry_stop restricts the number of entries to use (just done to make example run faster...)\n",
    "#library set to 'pd' gives us a pandas dataframe\n",
    "df_Zmumu = miniTreeZmumu.arrays([\"lep_n\",\"jet_n\"],library='pd',entry_stop=1000)\n",
    "df_Zmumu"
   ]
  },
  {
   "cell_type": "code",
   "execution_count": 3,
   "metadata": {},
   "outputs": [
    {
     "data": {
      "text/plain": [
       "array([[<Axes: title={'center': 'jet_n'}>]], dtype=object)"
      ]
     },
     "execution_count": 3,
     "metadata": {},
     "output_type": "execute_result"
    },
    {
     "data": {
      "image/png": "[encoded data removed]",
      "text/plain": [
       "<Figure size 640x480 with 1 Axes>"
      ]
     },
     "metadata": {},
     "output_type": "display_data"
    }
   ],
   "source": [
    "#In my notebook, had to run this cell twice to get the histograms to display...\n",
    "df_Zmumu.hist(\"jet_n\")"
   ]
  },
  {
   "cell_type": "code",
   "execution_count": 4,
   "metadata": {},
   "outputs": [
    {
     "data": {
      "text/plain": [
       "array([[<Axes: title={'center': 'jet_n'}>]], dtype=object)"
      ]
     },
     "execution_count": 4,
     "metadata": {},
     "output_type": "execute_result"
    },
    {
     "data": {
      "image/png": "[encoded data removed]",
      "text/plain": [
       "<Figure size 640x480 with 1 Axes>"
      ]
     },
     "metadata": {},
     "output_type": "display_data"
    },
    {
     "data": {
      "image/png": "[encoded data removed]",
      "text/plain": [
       "<Figure size 640x480 with 1 Axes>"
      ]
     },
     "metadata": {},
     "output_type": "display_data"
    }
   ],
   "source": [
    "miniTreeTTbar = uproot.open(\"https://atlas-opendata.web.cern.ch/Legacy13TeV/2lep/MC/mc_410000.ttbar_lep.2lep.root\")[\"mini\"]\n",
    "df_ttbar = miniTreeTTbar.arrays([\"jet_n\",\"jet_pt\"],library='pd',entry_stop=1000)\n",
    "#jet_pt is an \"awkward array\" (i.e of variable size), stored as a series\n",
    "#so we have to use this procedure to flatten it to a 1-D array that \n",
    "#the hist function would use.\n",
    "jet_pt = (df_ttbar['jet_pt']).to_numpy()\n",
    "import awkward, matplotlib.pylab as plt\n",
    "\n",
    "jet_ptHist = plt.hist(jet_pt,bins=100,range=[0,200000])\n",
    "#Other variable types can be histogrammed directly using the pandas array\n",
    "df_ttbar.hist(\"jet_n\",bins=10)"
   ]
  },
  {
   "cell_type": "code",
   "execution_count": 5,
   "metadata": {},
   "outputs": [],
   "source": [
    "#Task 2\n",
    "#Try making some histograms of other quantities in the open data.\n",
    "#Can you reproduce plots we saw in earlier Lectures with .../Lecture1/tree2.root using uproot and matplotlib?"
   ]
  },
  {
   "cell_type": "code",
   "execution_count": 6,
   "metadata": {},
   "outputs": [
    {
     "data": {
      "text/html": [
       "<div>\n",
       "<style scoped>\n",
       "    .dataframe tbody tr th:only-of-type {\n",
       "        vertical-align: middle;\n",
       "    }\n",
       "\n",
       "    .dataframe tbody tr th {\n",
       "        vertical-align: top;\n",
       "    }\n",
       "\n",
       "    .dataframe thead th {\n",
       "        text-align: right;\n",
       "    }\n",
       "</style>\n",
       "<table border=\"1\" class=\"dataframe\">\n",
       "  <thead>\n",
       "    <tr style=\"text-align: right;\">\n",
       "      <th></th>\n",
       "      <th>lep_n</th>\n",
       "      <th>jet_n</th>\n",
       "      <th>signal</th>\n",
       "    </tr>\n",
       "  </thead>\n",
       "  <tbody>\n",
       "    <tr>\n",
       "      <th>0</th>\n",
       "      <td>2.0</td>\n",
       "      <td>0.0</td>\n",
       "      <td>1.0</td>\n",
       "    </tr>\n",
       "    <tr>\n",
       "      <th>1</th>\n",
       "      <td>2.0</td>\n",
       "      <td>2.0</td>\n",
       "      <td>1.0</td>\n",
       "    </tr>\n",
       "    <tr>\n",
       "      <th>2</th>\n",
       "      <td>2.0</td>\n",
       "      <td>1.0</td>\n",
       "      <td>1.0</td>\n",
       "    </tr>\n",
       "    <tr>\n",
       "      <th>3</th>\n",
       "      <td>2.0</td>\n",
       "      <td>0.0</td>\n",
       "      <td>1.0</td>\n",
       "    </tr>\n",
       "    <tr>\n",
       "      <th>4</th>\n",
       "      <td>2.0</td>\n",
       "      <td>0.0</td>\n",
       "      <td>1.0</td>\n",
       "    </tr>\n",
       "    <tr>\n",
       "      <th>...</th>\n",
       "      <td>...</td>\n",
       "      <td>...</td>\n",
       "      <td>...</td>\n",
       "    </tr>\n",
       "    <tr>\n",
       "      <th>995</th>\n",
       "      <td>2.0</td>\n",
       "      <td>2.0</td>\n",
       "      <td>0.0</td>\n",
       "    </tr>\n",
       "    <tr>\n",
       "      <th>996</th>\n",
       "      <td>2.0</td>\n",
       "      <td>3.0</td>\n",
       "      <td>0.0</td>\n",
       "    </tr>\n",
       "    <tr>\n",
       "      <th>997</th>\n",
       "      <td>2.0</td>\n",
       "      <td>3.0</td>\n",
       "      <td>0.0</td>\n",
       "    </tr>\n",
       "    <tr>\n",
       "      <th>998</th>\n",
       "      <td>2.0</td>\n",
       "      <td>3.0</td>\n",
       "      <td>0.0</td>\n",
       "    </tr>\n",
       "    <tr>\n",
       "      <th>999</th>\n",
       "      <td>2.0</td>\n",
       "      <td>2.0</td>\n",
       "      <td>0.0</td>\n",
       "    </tr>\n",
       "  </tbody>\n",
       "</table>\n",
       "<p>2000 rows × 3 columns</p>\n",
       "</div>"
      ],
      "text/plain": [
       "     lep_n  jet_n  signal\n",
       "0      2.0    0.0     1.0\n",
       "1      2.0    2.0     1.0\n",
       "2      2.0    1.0     1.0\n",
       "3      2.0    0.0     1.0\n",
       "4      2.0    0.0     1.0\n",
       "..     ...    ...     ...\n",
       "995    2.0    2.0     0.0\n",
       "996    2.0    3.0     0.0\n",
       "997    2.0    3.0     0.0\n",
       "998    2.0    3.0     0.0\n",
       "999    2.0    2.0     0.0\n",
       "\n",
       "[2000 rows x 3 columns]"
      ]
     },
     "execution_count": 6,
     "metadata": {},
     "output_type": "execute_result"
    }
   ],
   "source": [
    "#redefine ttbar array with same variables as Zmumu array\n",
    "df_ttbar = miniTreeTTbar.arrays([\"lep_n\",\"jet_n\"],library='pd',entry_stop=1000)\n",
    "df_Zmumu=df_Zmumu.assign(signal=1)\n",
    "df_ttbar=df_ttbar.assign(signal=0)\n",
    "#Create a list of the two pandas data frames\n",
    "df_list = [df_Zmumu,df_ttbar]\n",
    "#Convert this new list to one pandas data frame\n",
    "import pandas\n",
    "df_all = pandas.concat(df_list)\n",
    "#In case we only have integers, make sure they are treated as floats (ML software usually requires variables to be floats)\n",
    "df_all = df_all.astype('float64')\n",
    "df_all"
   ]
  },
  {
   "cell_type": "code",
   "execution_count": 7,
   "metadata": {
    "scrolled": true
   },
   "outputs": [
    {
     "data": {
      "text/plain": [
       "array([[<Axes: title={'center': 'signal'}>]], dtype=object)"
      ]
     },
     "execution_count": 7,
     "metadata": {},
     "output_type": "execute_result"
    },
    {
     "data": {
      "image/png": "[encoded data removed]",
      "text/plain": [
       "<Figure size 640x480 with 1 Axes>"
      ]
     },
     "metadata": {},
     "output_type": "display_data"
    }
   ],
   "source": [
    "df_all.hist(\"signal\")"
   ]
  },
  {
   "cell_type": "code",
   "execution_count": 8,
   "metadata": {},
   "outputs": [],
   "source": [
    "dataset = df_all.values\n",
    "X = dataset[:,0:2]\n",
    "Y = dataset[:,2]"
   ]
  },
  {
   "cell_type": "code",
   "execution_count": 9,
   "metadata": {},
   "outputs": [],
   "source": [
    "#ML prefers to have variables distributed in a specific way\n",
    "#Here we require them to have mean of zero and standard deviation of 1\n",
    "from sklearn.preprocessing import StandardScaler\n",
    "scaler = StandardScaler()\n",
    "X = scaler.fit_transform(X)\n"
   ]
  },
  {
   "cell_type": "code",
   "execution_count": 10,
   "metadata": {},
   "outputs": [],
   "source": [
    "import keras as ks\n",
    "keras_model = ks.Sequential()\n",
    "keras_model.add(ks.layers.Dense(12,activation='relu'))\n",
    "keras_model.add(ks.layers.Dense(8, activation='relu'))\n",
    "keras_model.add(ks.layers.Dense(1, activation='sigmoid'))"
   ]
  },
  {
   "cell_type": "code",
   "execution_count": 12,
   "metadata": {},
   "outputs": [
    {
     "name": "stdout",
     "output_type": "stream",
     "text": [
      "Epoch 1/10\n",
      "\u001b[1m63/63\u001b[0m \u001b[32m━━━━━━━━━━━━━━━━━━━━\u001b[0m\u001b[37m\u001b[0m \u001b[1m0s\u001b[0m 390us/step - loss: 0.6398 \n",
      "Epoch 2/10\n",
      "\u001b[1m63/63\u001b[0m \u001b[32m━━━━━━━━━━━━━━━━━━━━\u001b[0m\u001b[37m\u001b[0m \u001b[1m0s\u001b[0m 291us/step - loss: 0.5413\n",
      "Epoch 3/10\n",
      "\u001b[1m63/63\u001b[0m \u001b[32m━━━━━━━━━━━━━━━━━━━━\u001b[0m\u001b[37m\u001b[0m \u001b[1m0s\u001b[0m 304us/step - loss: 0.4329\n",
      "Epoch 4/10\n",
      "\u001b[1m63/63\u001b[0m \u001b[32m━━━━━━━━━━━━━━━━━━━━\u001b[0m\u001b[37m\u001b[0m \u001b[1m0s\u001b[0m 310us/step - loss: 0.3431\n",
      "Epoch 5/10\n",
      "\u001b[1m63/63\u001b[0m \u001b[32m━━━━━━━━━━━━━━━━━━━━\u001b[0m\u001b[37m\u001b[0m \u001b[1m0s\u001b[0m 323us/step - loss: 0.2893\n",
      "Epoch 6/10\n",
      "\u001b[1m63/63\u001b[0m \u001b[32m━━━━━━━━━━━━━━━━━━━━\u001b[0m\u001b[37m\u001b[0m \u001b[1m0s\u001b[0m 352us/step - loss: 0.2696\n",
      "Epoch 7/10\n",
      "\u001b[1m63/63\u001b[0m \u001b[32m━━━━━━━━━━━━━━━━━━━━\u001b[0m\u001b[37m\u001b[0m \u001b[1m0s\u001b[0m 319us/step - loss: 0.2429\n",
      "Epoch 8/10\n",
      "\u001b[1m63/63\u001b[0m \u001b[32m━━━━━━━━━━━━━━━━━━━━\u001b[0m\u001b[37m\u001b[0m \u001b[1m0s\u001b[0m 307us/step - loss: 0.2517\n",
      "Epoch 9/10\n",
      "\u001b[1m63/63\u001b[0m \u001b[32m━━━━━━━━━━━━━━━━━━━━\u001b[0m\u001b[37m\u001b[0m \u001b[1m0s\u001b[0m 309us/step - loss: 0.2303\n",
      "Epoch 10/10\n",
      "\u001b[1m63/63\u001b[0m \u001b[32m━━━━━━━━━━━━━━━━━━━━\u001b[0m\u001b[37m\u001b[0m \u001b[1m0s\u001b[0m 313us/step - loss: 0.2582\n"
     ]
    },
    {
     "data": {
      "text/plain": [
       "<keras.src.callbacks.history.History at 0x3449ea8a0>"
      ]
     },
     "execution_count": 12,
     "metadata": {},
     "output_type": "execute_result"
    }
   ],
   "source": [
    "keras_model.compile(optimizer='adam', loss='binary_crossentropy')\n",
    "keras_model.fit(X,Y,epochs=10,batch_size=32)"
   ]
  },
  {
   "cell_type": "code",
   "execution_count": 25,
   "metadata": {},
   "outputs": [
    {
     "name": "stdout",
     "output_type": "stream",
     "text": [
      "\u001b[1m63/63\u001b[0m \u001b[32m━━━━━━━━━━━━━━━━━━━━\u001b[0m\u001b[37m\u001b[0m \u001b[1m0s\u001b[0m 281us/step\n"
     ]
    }
   ],
   "source": [
    "import numpy as np\n",
    "\n",
    "predictions = keras_model.predict(X)\n",
    "\n",
    "#Change our predicted probability to a binary 0 or 1\n",
    "def final_predictions(predictions):\n",
    "    finalPredictions = np.zeros((len(predictions),))\n",
    "    for i in range(len(predictions)):\n",
    "        if predictions[i] > 0.5:\n",
    "            finalPredictions[i] = 1\n",
    "        else:\n",
    "            finalPredictions[i] = 0\n",
    "\n",
    "    return finalPredictions\n",
    "\n",
    "#Count how often our predictin matches the true signal value\n",
    "def count_correct_predictions(predictions, Y):\n",
    "    nCorrect = 0\n",
    "    for i in range(len(predictions)-1):\n",
    "        if predictions[i] == Y[i]:\n",
    "            nCorrect += 1\n",
    "    return nCorrect"
   ]
  },
  {
   "cell_type": "code",
   "execution_count": 26,
   "metadata": {},
   "outputs": [
    {
     "name": "stdout",
     "output_type": "stream",
     "text": [
      "Number of correct predictions are  1818\n"
     ]
    }
   ],
   "source": [
    "finalPredictions = final_predictions(predictions)\n",
    "print(\"Number of correct predictions are \", count_correct_predictions(finalPredictions, Y))"
   ]
  },
  {
   "cell_type": "code",
   "execution_count": 27,
   "metadata": {},
   "outputs": [],
   "source": [
    "#Build the same model using Google DeepMinds Sonnet software\n",
    "import sonnet as snt\n",
    "import tensorflow as tf\n",
    "\n",
    "def build_model():\n",
    "  model = snt.Sequential([\n",
    "      snt.Linear(12),\n",
    "      tf.nn.relu,\n",
    "      snt.Linear(8),\n",
    "      tf.nn.relu,\n",
    "      snt.Linear(1),\n",
    "      tf.nn.sigmoid\n",
    "  ])\n",
    "  return model"
   ]
  },
  {
   "cell_type": "code",
   "execution_count": 28,
   "metadata": {},
   "outputs": [],
   "source": [
    "#Build our model\n",
    "sonnet_model = build_model()\n",
    "\n",
    "#Define a function to train our model\n",
    "def train_model(model, X, Y, epochs=10, batch_size=32, learning_rate=0.001):\n",
    "    optimizer = tf.keras.optimizers.Adam(learning_rate)\n",
    "    loss_fn = tf.keras.losses.BinaryCrossentropy()\n",
    "\n",
    "    for epoch in range(epochs):        \n",
    "        for i in range(0, len(X), batch_size):\n",
    "            batch_X = X[i:i+batch_size]\n",
    "            batch_y = Y[i:i+batch_size]\n",
    "\n",
    "            with tf.GradientTape() as tape:\n",
    "                predictions = model(batch_X)\n",
    "                loss = loss_fn(batch_y, predictions)\n",
    "\n",
    "            gradients = tape.gradient(loss, model.trainable_variables)\n",
    "\n",
    "            optimizer.apply_gradients(zip(gradients, model.trainable_variables))\n"
   ]
  },
  {
   "cell_type": "code",
   "execution_count": 29,
   "metadata": {},
   "outputs": [
    {
     "name": "stdout",
     "output_type": "stream",
     "text": [
      "sonnet predictions are:  tf.Tensor(\n",
      "[[0.93164181]\n",
      " [0.46467971]\n",
      " [0.80526725]\n",
      " ...\n",
      " [0.46467971]\n",
      " [0.46467971]\n",
      " [0.46467971]], shape=(2000, 1), dtype=float64)\n",
      "Number of correct predictions are  1807\n"
     ]
    }
   ],
   "source": [
    "#Train this sonnet model and check its performance\n",
    "\n",
    "train_model(sonnet_model, X,Y)\n",
    "predictions = sonnet_model(X)\n",
    "print(\"sonnet predictions are: \", predictions)\n",
    "\n",
    "finalPredictions = final_predictions(predictions)\n",
    "print(\"Number of correct predictions are \", count_correct_predictions(finalPredictions, Y))"
   ]
  },
  {
   "cell_type": "code",
   "execution_count": null,
   "metadata": {},
   "outputs": [],
   "source": []
  }
 ],
 "metadata": {
  "kernelspec": {
   "display_name": "Python 3 (ipykernel)",
   "language": "python",
   "name": "python3"
  },
  "language_info": {
   "codemirror_mode": {
    "name": "ipython",
    "version": 3
   },
   "file_extension": ".py",
   "mimetype": "text/x-python",
   "name": "python",
   "nbconvert_exporter": "python",
   "pygments_lexer": "ipython3",
   "version": "3.12.5"
  }
 },
 "nbformat": 4,
 "nbformat_minor": 4
}
