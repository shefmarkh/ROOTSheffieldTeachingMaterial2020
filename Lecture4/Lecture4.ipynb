{
 "cells": [
  {
   "cell_type": "code",
   "execution_count": 1,
   "metadata": {},
   "outputs": [
    {
     "name": "stdout",
     "output_type": "stream",
     "text": [
      "\u001b[32mt2\u001b[0m\r\n"
     ]
    }
   ],
   "source": [
    "#Again we use the \"!\" command to specify we want to execute commands via the terminal, outside python\n",
    "#rootls is an example of a root command line tool: \n",
    "#https://root.cern/manual/storing_root_objects/#root-command-line-tools\n",
    "#Allows to run common operations from the linux/mac terminal, without running ROOT or python directly.\n",
    "! rootls ../Lecture1/tree2.root"
   ]
  },
  {
   "cell_type": "code",
   "execution_count": 2,
   "metadata": {},
   "outputs": [
    {
     "name": "stdout",
     "output_type": "stream",
     "text": [
      "Welcome to JupyROOT 6.22/02\n"
     ]
    }
   ],
   "source": [
    "#To do the same in python we would have to type:\n",
    "from ROOT import TFile\n",
    "myFile = TFile.Open(\"../Lecture1/tree2.root\")\n",
    "#Note the output is a bit more detailed though\n",
    "myFile.ls()"
   ]
  },
  {
   "cell_type": "code",
   "execution_count": 3,
   "metadata": {},
   "outputs": [
    {
     "name": "stdout",
     "output_type": "stream",
     "text": [
      "g++  -std=c++11 -g -Wall -I -stdlib=libc++ -pthread -std=c++11 -m64 -I/Users/markhodgkinson/build_root_v6_22_02/include -o myROOTCommand.d -MM -MT 'myROOTCommand.o myROOTCommand.d' myROOTCommand.c\n",
      "clang: \u001b[0;1;35mwarning: \u001b[0mtreating 'c' input as 'c++' when in C++ mode, this behavior is deprecated [-Wdeprecated]\u001b[0m\n",
      "g++  -std=c++11 -g -Wall -I -stdlib=libc++ -pthread -std=c++11 -m64 -I/Users/markhodgkinson/build_root_v6_22_02/include -o myROOTCommand.o -c myROOTCommand.c\n",
      "clang: \u001b[0;1;35mwarning: \u001b[0mtreating 'c' input as 'c++' when in C++ mode, this behavior is deprecated [-Wdeprecated]\u001b[0m\n",
      "g++ -Wl,-rpath,/Users/markhodgkinson/build_root_v6_22_02/lib  -g -Wall -o myROOTCommand myROOTCommand.o  `root-config --libs` -lvectorDict -lTMVA\n"
     ]
    }
   ],
   "source": [
    "#\"make\" is a standard command to build an executable, which you can run. An executable can be thought of as a \n",
    "#translation of your computer code into something the computer can understand. When using python this happens in\n",
    "#real time, behind the scenes.\n",
    "#The \"!\" tells Jupyter to run the command in the underlying terminal.\n",
    "! make \n",
    "#You can see the commands \"make\" actually runs printed below.\n",
    "#Lots of options passed to g++ (don't worry about these) - the important part is it creates library files (*.d,*.o)\n",
    "#and eventually an executable which you run (\"myROOTCommand\")"
   ]
  },
  {
   "cell_type": "code",
   "execution_count": null,
   "metadata": {},
   "outputs": [
    {
     "name": "stdout",
     "output_type": "stream",
     "text": [
      "***********************************************************************************************************\n",
      "*    Row   * Instance * vect.vect * getot.get * gekin.gek * nmec.nmec * lmec.lmec * destep.de *   pid.pid *\n",
      "***********************************************************************************************************\n",
      "*        0 *        0 *         0 * 0.1396002 * 0.0026002 *         0 *           *         0 *         1 *\n",
      "*        0 *        1 *         0 * 0.1396002 * 0.0026002 *         0 *           *         0 *         1 *\n",
      "*        0 *        2 *         0 * 0.1396002 * 0.0026002 *         0 *           *         0 *         1 *\n",
      "*        0 *        3 * 0.7449554 * 0.1396002 * 0.0026002 *         0 *           *         0 *         1 *\n",
      "*        0 *        4 * -0.324226 * 0.1396002 * 0.0026002 *         0 *           *         0 *         1 *\n",
      "*        0 *        5 * 0.5830255 * 0.1396002 * 0.0026002 *         0 *           *         0 *         1 *\n",
      "*        0 *        6 * -0.026818 * 0.1396002 * 0.0026002 *         0 *           *         0 *         1 *\n",
      "*        1 *        0 * 0.0748517 * 0.1395833 * 0.0025833 *         2 *         0 * 1.687e-05 *         1 *\n",
      "*        1 *        1 * -0.031587 * 0.1395833 * 0.0025833 *         2 *         1 * 1.687e-05 *         1 *\n",
      "*        1 *        2 * 0.0583025 * 0.1395833 * 0.0025833 *         2 *           * 1.687e-05 *         1 *\n",
      "*        1 *        3 * 0.7520173 * 0.1395833 * 0.0025833 *         2 *           * 1.687e-05 *         1 *\n",
      "*        1 *        4 * -0.307491 * 0.1395833 * 0.0025833 *         2 *           * 1.687e-05 *         1 *\n",
      "*        1 *        5 * 0.5830255 * 0.1395833 * 0.0025833 *         2 *           * 1.687e-05 *         1 *\n",
      "*        1 *        6 * -0.026730 * 0.1395833 * 0.0025833 *         2 *           * 1.687e-05 *         1 *\n",
      "*        2 *        0 * 0.1503920 * 0.1395634 * 0.0025634 *         3 *         0 * 1.992e-05 *         1 *\n",
      "*        2 *        1 * -0.061490 * 0.1395634 * 0.0025634 *         3 *         1 * 1.992e-05 *         1 *\n",
      "*        2 *        2 * 0.1166051 * 0.1395634 * 0.0025634 *         3 *         2 * 1.992e-05 *         1 *\n",
      "*        2 *        3 * 0.7587248 * 0.1395634 * 0.0025634 *         3 *           * 1.992e-05 *         1 *\n",
      "*        2 *        4 * -0.290547 * 0.1395634 * 0.0025634 *         3 *           * 1.992e-05 *         1 *\n",
      "*        2 *        5 * 0.5830255 * 0.1395634 * 0.0025634 *         3 *           * 1.992e-05 *         1 *\n",
      "*        2 *        6 * -0.026626 * 0.1395634 * 0.0025634 *         3 *           * 1.992e-05 *         1 *\n",
      "*        3 *        0 * 0.2265852 * 0.1395438 * 0.0025438 *         1 *         0 * 1.958e-05 *         1 *\n",
      "*        3 *        1 * -0.089688 * 0.1395438 * 0.0025438 *         1 *           * 1.958e-05 *         1 *\n",
      "*        3 *        2 * 0.1749076 * 0.1395438 * 0.0025438 *         1 *           * 1.958e-05 *         1 *\n",
      "*        3 *        3 * 0.7650746 * 0.1395438 * 0.0025438 *         1 *           * 1.958e-05 *         1 *\n",
      "Type <CR> to continue or q to quit ==> "
     ]
    }
   ],
   "source": [
    "#Run the command in the terminal, and we see what it does.\n",
    "! ./myROOTCommand ../Lecture1/tree2.root t2;1"
   ]
  },
  {
   "cell_type": "code",
   "execution_count": null,
   "metadata": {},
   "outputs": [],
   "source": [
    "#Task 1\n",
    "#Modify myROOTCommand.C (use any text editor on your computer)"
   ]
  },
  {
   "cell_type": "code",
   "execution_count": null,
   "metadata": {},
   "outputs": [],
   "source": []
  },
  {
   "cell_type": "code",
   "execution_count": null,
   "metadata": {},
   "outputs": [],
   "source": []
  }
 ],
 "metadata": {
  "kernelspec": {
   "display_name": "Python 3",
   "language": "python",
   "name": "python3"
  },
  "language_info": {
   "codemirror_mode": {
    "name": "ipython",
    "version": 3
   },
   "file_extension": ".py",
   "mimetype": "text/x-python",
   "name": "python",
   "nbconvert_exporter": "python",
   "pygments_lexer": "ipython3",
   "version": "3.7.0"
  }
 },
 "nbformat": 4,
 "nbformat_minor": 2
}
