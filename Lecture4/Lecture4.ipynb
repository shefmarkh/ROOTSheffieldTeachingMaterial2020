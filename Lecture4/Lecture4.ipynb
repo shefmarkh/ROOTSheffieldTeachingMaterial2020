{
 "cells": [
  {
   "cell_type": "code",
   "execution_count": null,
   "metadata": {},
   "outputs": [],
   "source": [
    "#Again we use the \"!\" command to specify we want to execute commands via the terminal, outside python\n",
    "#rootls is an example of a root command line tool: \n",
    "#https://root.cern/manual/storing_root_objects/#root-command-line-tools\n",
    "#Allows to run common operations from the linux/mac terminal, without running ROOT or python directly.\n",
    "! rootls ../Lecture1/tree2.root"
   ]
  },
  {
   "cell_type": "code",
   "execution_count": null,
   "metadata": {},
   "outputs": [],
   "source": [
    "#To do the same in python we would have to type:\n",
    "from ROOT import TFile\n",
    "myFile = TFile.Open(\"../Lecture1/tree2.root\")\n",
    "#Note the output is a bit more detailed though\n",
    "myFile.ls()"
   ]
  },
  {
   "cell_type": "code",
   "execution_count": null,
   "metadata": {},
   "outputs": [],
   "source": [
    "#\"make\" is a standard command to build an executable, which you can run. An executable can be thought of as a \n",
    "#translation of your computer code into something the computer can understand. When using python this happens in\n",
    "#real time, behind the scenes.\n",
    "#The \"!\" tells Jupyter to run the command in the underlying terminal.\n",
    "! make \n",
    "#You can see the commands \"make\" actually runs printed below.\n",
    "#Lots of options passed to g++ (don't worry about these) - the important part is it creates library files (*.d,*.o)\n",
    "#and eventually an executable which you run (\"myROOTCommand\")"
   ]
  },
  {
   "cell_type": "code",
   "execution_count": 1,
   "metadata": {},
   "outputs": [
    {
     "name": "stdout",
     "output_type": "stream",
     "text": [
      "***********************************************************************************************************\n",
      "*    Row   * Instance * vect.vect * getot.get * gekin.gek * nmec.nmec * lmec.lmec * destep.de *   pid.pid *\n",
      "***********************************************************************************************************\n",
      "*        0 *        0 *         0 * 0.1396002 * 0.0026002 *         0 *           *         0 *         1 *\n",
      "*        0 *        1 *         0 * 0.1396002 * 0.0026002 *         0 *           *         0 *         1 *\n",
      "*        0 *        2 *         0 * 0.1396002 * 0.0026002 *         0 *           *         0 *         1 *\n",
      "*        0 *        3 * 0.7449554 * 0.1396002 * 0.0026002 *         0 *           *         0 *         1 *\n",
      "*        0 *        4 * -0.324226 * 0.1396002 * 0.0026002 *         0 *           *         0 *         1 *\n",
      "*        0 *        5 * 0.5830255 * 0.1396002 * 0.0026002 *         0 *           *         0 *         1 *\n",
      "*        0 *        6 * -0.026818 * 0.1396002 * 0.0026002 *         0 *           *         0 *         1 *\n",
      "***********************************************************************************************************\n"
     ]
    }
   ],
   "source": [
    "#Run the command in the terminal, and we see what it does.\n",
    "! ./myROOTCommand ../Lecture1/tree2.root t2"
   ]
  },
  {
   "cell_type": "code",
   "execution_count": 2,
   "metadata": {},
   "outputs": [
    {
     "name": "stdout",
     "output_type": "stream",
     "text": [
      "***********************************************************************************************************\n",
      "*    Row   * Instance * vect.vect * getot.get * gekin.gek * nmec.nmec * lmec.lmec * destep.de *   pid.pid *\n",
      "***********************************************************************************************************\n",
      "*        0 *        0 *         0 * 0.1396002 * 0.0026002 *         0 *           *         0 *         1 *\n",
      "*        0 *        1 *         0 * 0.1396002 * 0.0026002 *         0 *           *         0 *         1 *\n",
      "*        0 *        2 *         0 * 0.1396002 * 0.0026002 *         0 *           *         0 *         1 *\n",
      "*        0 *        3 * 0.7449554 * 0.1396002 * 0.0026002 *         0 *           *         0 *         1 *\n",
      "*        0 *        4 * -0.324226 * 0.1396002 * 0.0026002 *         0 *           *         0 *         1 *\n",
      "*        0 *        5 * 0.5830255 * 0.1396002 * 0.0026002 *         0 *           *         0 *         1 *\n",
      "*        0 *        6 * -0.026818 * 0.1396002 * 0.0026002 *         0 *           *         0 *         1 *\n",
      "***********************************************************************************************************\n"
     ]
    }
   ],
   "source": [
    "#We can also make a python shortcut command!\n",
    "! ./myROOTcommand.py ../Lecture1/tree2.root t2"
   ]
  },
  {
   "cell_type": "code",
   "execution_count": null,
   "metadata": {},
   "outputs": [],
   "source": [
    "#Task 1\n",
    "#Make your own python shortcut command"
   ]
  },
  {
   "cell_type": "code",
   "execution_count": null,
   "metadata": {},
   "outputs": [],
   "source": []
  }
 ],
 "metadata": {
  "kernelspec": {
   "display_name": "Python 3",
   "language": "python",
   "name": "python3"
  },
  "language_info": {
   "codemirror_mode": {
    "name": "ipython",
    "version": 3
   },
   "file_extension": ".py",
   "mimetype": "text/x-python",
   "name": "python",
   "nbconvert_exporter": "python",
   "pygments_lexer": "ipython3",
   "version": "3.7.0"
  }
 },
 "nbformat": 4,
 "nbformat_minor": 2
}
