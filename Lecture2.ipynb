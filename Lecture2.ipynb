{
 "cells": [
  {
   "cell_type": "code",
   "execution_count": null,
   "metadata": {
    "scrolled": true
   },
   "outputs": [],
   "source": [
    "#This is a hack to make the %%cpp work inside mybinder.org - ignore\n",
    "from ROOT import TObject"
   ]
  },
  {
   "cell_type": "code",
   "execution_count": null,
   "metadata": {},
   "outputs": [],
   "source": [
    "%%cpp\n",
    "//Open the file tree2.root\n",
    "TFile file(\"tree2.root\");\n",
    "//Print the contents of the global directory\n",
    "gDirectory->Print();"
   ]
  },
  {
   "cell_type": "code",
   "execution_count": null,
   "metadata": {},
   "outputs": [],
   "source": [
    "%%cpp\n",
    "//Print even more details from the global directory\n",
    "gDirectory->ls();"
   ]
  },
  {
   "cell_type": "code",
   "execution_count": null,
   "metadata": {},
   "outputs": [],
   "source": [
    "#The same thing in python.\n",
    "from ROOT import TFile,gDirectory\n",
    "filePython = TFile(\"tree2.root\")\n",
    "gDirectory.Print()\n",
    "gDirectory.ls()"
   ]
  },
  {
   "cell_type": "code",
   "execution_count": null,
   "metadata": {},
   "outputs": [],
   "source": [
    "#Task1 call the Print() methods on some of the other gObject pointers (gEnv, gRandom etc) to see what you see.\n",
    "#Hint: Read section 2.6 of: https://root.cern.ch/root/html534/guides/users-guide//ROOTUsersGuideLetter.pdf"
   ]
  },
  {
   "cell_type": "code",
   "execution_count": null,
   "metadata": {},
   "outputs": [],
   "source": [
    "#Task2: Use the TTree, t2, to draw a histogram again of destep with whatever name you wish.\n",
    "#Then check whether it shows up in your global directory."
   ]
  },
  {
   "cell_type": "code",
   "execution_count": null,
   "metadata": {},
   "outputs": [],
   "source": [
    "%%cpp\n",
    "//Create an integer variable\n",
    "int mark = 1;\n",
    "//Create a pointer to an integer variable\n",
    "int* mark2 = new int(2);\n",
    "mark"
   ]
  },
  {
   "cell_type": "code",
   "execution_count": null,
   "metadata": {},
   "outputs": [],
   "source": [
    "%%cpp\n",
    "mark2"
   ]
  },
  {
   "cell_type": "code",
   "execution_count": null,
   "metadata": {},
   "outputs": [],
   "source": [
    "%%cpp\n",
    "//Delete the integer held in memory which is pointed at by the pointer mark2\n",
    "delete mark2;"
   ]
  },
  {
   "cell_type": "code",
   "execution_count": null,
   "metadata": {},
   "outputs": [],
   "source": [
    "%%cpp\n",
    "//Create a unique_ptr object, which holds a pointer to a variable of type integer.\n",
    "std::unique_ptr<int> mark3(new int(3));\n",
    "mark3"
   ]
  },
  {
   "cell_type": "code",
   "execution_count": null,
   "metadata": {},
   "outputs": [],
   "source": [
    "%%cpp\n",
    "*mark3"
   ]
  },
  {
   "cell_type": "code",
   "execution_count": null,
   "metadata": {},
   "outputs": [],
   "source": [
    "%%cpp\n",
    "//Notice we cannnot use the delete statement in the case of a unique_ptr.\n",
    "delete mark3;"
   ]
  },
  {
   "cell_type": "code",
   "execution_count": null,
   "metadata": {},
   "outputs": [],
   "source": [
    "%%cpp\n",
    "//Use the auto keyword to let the compiler or CLING figure out that make_unique returns a unique_ptr.\n",
    "auto mark4 = std::make_unique<int>(3);\n",
    "mark4"
   ]
  },
  {
   "cell_type": "code",
   "execution_count": null,
   "metadata": {},
   "outputs": [],
   "source": [
    "%%cpp\n",
    "//Create a pointer to an object of type TH1F\n",
    "TH1F* f = new TH1F(\"m\",\"m\",100,0,10);\n",
    "//Close the global directory - this triggers all data it owns to be deleted...\n",
    "gDirectory->Close();\n",
    "//....and so if we attempt to delete the memory pointed at by f we get a crash, because the memory has already\n",
    "//been deleted. gDirectory owns the memory pointed at by f. Need to be careful!\n",
    "delete f;"
   ]
  },
  {
   "cell_type": "code",
   "execution_count": null,
   "metadata": {},
   "outputs": [],
   "source": [
    "%%cpp\n",
    "//Lets try the same thing, using unique_ptr\n",
    "auto f = std::make_unique<TH1F>(\"m2\",\"m2\",100,0,10);\n",
    "//Check what f is\n",
    "*f"
   ]
  },
  {
   "cell_type": "code",
   "execution_count": null,
   "metadata": {},
   "outputs": [],
   "source": [
    "%%cpp\n",
    "//Close the global directory\n",
    "gDirectory->Close();\n",
    "//Now cannot dereference f - gDirectory cleaned up the memory owned by the unique_ptr\n",
    "//This is a design flaw in ROOT - should not be taking ownership of memroy already owned by unique_ptr.\n",
    "*f"
   ]
  },
  {
   "cell_type": "code",
   "execution_count": null,
   "metadata": {},
   "outputs": [],
   "source": [
    "%%cpp\n",
    "//Create a TH1F without using pointers or allocating memory explicitly\n",
    "TH1F marksHist(\"m3\",\"m3\",100,0,10);\n",
    "//See if it is in the global directory\n",
    "gDirectory->ls()"
   ]
  },
  {
   "cell_type": "code",
   "execution_count": null,
   "metadata": {},
   "outputs": [],
   "source": [
    "%%cpp\n",
    "//Close the global directory - which means all memory it owns is cleaned up and objects/variables there deleted.\n",
    "gDirectory->Close();\n",
    "//The global directory does not own marksHist, and so it still exists - avoid using pointers to avoid the above\n",
    "//issues with pointer memory ownership. Of course python also does not have the issue at all.\n",
    "marksHist"
   ]
  },
  {
   "cell_type": "code",
   "execution_count": null,
   "metadata": {},
   "outputs": [],
   "source": [
    "%%cpp\n",
    "TSystemDirectory dir(\"dir\",gSystem->pwd())"
   ]
  },
  {
   "cell_type": "code",
   "execution_count": null,
   "metadata": {
    "scrolled": true
   },
   "outputs": [],
   "source": [
    "%%cpp\n",
    "//Get the list of files - TList is an array of TSystemFile*\n",
    "auto fileList = static_cast<TList*>(dir.GetListOfFiles());\n",
    "//Create a pointer which points at nothing\n",
    "TSystemFile *f = nullptr;\n",
    "//Set up a string to make use of - TString is the ROOT analogy of c++ std::string\n",
    "TString fName;\n",
    "//Create an iterator over the fileList\n",
    "TIter nextFile(fileList);\n",
    "//iterator over the fileList and print the file names\n",
    "while ((f = static_cast<TSystemFile*>(nextFile()))){ fName= f->GetName(); std::cout << fName << std::endl;}"
   ]
  },
  {
   "cell_type": "code",
   "execution_count": null,
   "metadata": {},
   "outputs": [],
   "source": [
    "#The same thing in python\n",
    "#Import all the c++ classes we need\n",
    "from ROOT import TSystemDirectory,gSystem,TSystemFile,TString,TIter\n",
    "#Then set up the same things as was done in the above c++ example\n",
    "dir = TSystemDirectory(\"dir\",gSystem.pwd())\n",
    "fileList = dir.GetListOfFiles()\n",
    "f=TSystemFile()\n",
    "fName=TString()\n",
    "nextFile = TIter(fileList)\n",
    "#Set a counter for our loop\n",
    "counter = 0\n",
    "#print the filename in each iteration and keep going until counter is the length of the list.\n",
    "while counter < len(fileList):\n",
    "    f = nextFile()\n",
    "    print(f.GetName())\n",
    "    counter += 1"
   ]
  },
  {
   "cell_type": "code",
   "execution_count": null,
   "metadata": {},
   "outputs": [],
   "source": []
  }
 ],
 "metadata": {
  "kernelspec": {
   "display_name": "Python 3",
   "language": "python",
   "name": "python3"
  },
  "language_info": {
   "codemirror_mode": {
    "name": "ipython",
    "version": 3
   },
   "file_extension": ".py",
   "mimetype": "text/x-python",
   "name": "python",
   "nbconvert_exporter": "python",
   "pygments_lexer": "ipython3",
   "version": "3.7.0"
  }
 },
 "nbformat": 4,
 "nbformat_minor": 2
}
