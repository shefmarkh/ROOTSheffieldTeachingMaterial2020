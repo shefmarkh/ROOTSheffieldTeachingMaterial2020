{
 "cells": [
  {
   "cell_type": "code",
   "execution_count": null,
   "metadata": {
    "scrolled": true
   },
   "outputs": [],
   "source": [
    "#This is a hack to make the %%cpp work inside mybinder.org - ignore\n",
    "from ROOT import TObject"
   ]
  },
  {
   "cell_type": "code",
   "execution_count": null,
   "metadata": {},
   "outputs": [],
   "source": [
    "%%cpp\n",
    "//Open the file tree2.root\n",
    "TFile file(\"tree2.root\");\n",
    "//Print the contents of the global directory\n",
    "gDirectory->Print();"
   ]
  },
  {
   "cell_type": "code",
   "execution_count": null,
   "metadata": {},
   "outputs": [],
   "source": [
    "%%cpp\n",
    "//Print even more details from the global directory\n",
    "gDirectory->ls();"
   ]
  },
  {
   "cell_type": "code",
   "execution_count": null,
   "metadata": {},
   "outputs": [],
   "source": [
    "#The same thing in python.\n",
    "from ROOT import TFile,gDirectory\n",
    "filePython = TFile(\"tree2.root\")\n",
    "gDirectory.Print()\n",
    "gDirectory.ls()"
   ]
  },
  {
   "cell_type": "code",
   "execution_count": null,
   "metadata": {},
   "outputs": [],
   "source": [
    "#Task1 call the Print() methods on some of the other gObject pointers (gEnv, gRandom etc) to see what you see.\n",
    "#Hint: Read section 2.6 of: https://root.cern.ch/root/html534/guides/users-guide//ROOTUsersGuideLetter.pdf"
   ]
  },
  {
   "cell_type": "code",
   "execution_count": null,
   "metadata": {},
   "outputs": [],
   "source": [
    "#Task2: Use the TTree, t2, to draw a histogram again of destep with whatever name you wish.\n",
    "#Then check whether it shows up in your global directory."
   ]
  },
  {
   "cell_type": "code",
   "execution_count": null,
   "metadata": {},
   "outputs": [],
   "source": [
    "%%cpp\n",
    "//Create an integer variable\n",
    "int mark = 1;\n",
    "//Create a pointer to an integer variable\n",
    "int* mark2 = new int(2);\n",
    "mark"
   ]
  },
  {
   "cell_type": "code",
   "execution_count": null,
   "metadata": {},
   "outputs": [],
   "source": [
    "%%cpp\n",
    "mark2"
   ]
  },
  {
   "cell_type": "code",
   "execution_count": null,
   "metadata": {},
   "outputs": [],
   "source": [
    "%%cpp\n",
    "//Delete the integer held in memory which is pointed at by the pointer mark2\n",
    "delete mark2;"
   ]
  },
  {
   "cell_type": "code",
   "execution_count": null,
   "metadata": {},
   "outputs": [],
   "source": [
    "%%cpp\n",
    "//Create a unique_ptr object, which holds a pointer to a variable of type integer.\n",
    "std::unique_ptr<int> mark3(new int(3));\n",
    "mark3"
   ]
  },
  {
   "cell_type": "code",
   "execution_count": null,
   "metadata": {},
   "outputs": [],
   "source": [
    "%%cpp\n",
    "*mark3"
   ]
  },
  {
   "cell_type": "code",
   "execution_count": null,
   "metadata": {},
   "outputs": [],
   "source": [
    "%%cpp\n",
    "//Notice we cannnot use the delete statement in the case of a unique_ptr.\n",
    "delete mark3;"
   ]
  },
  {
   "cell_type": "code",
   "execution_count": null,
   "metadata": {},
   "outputs": [],
   "source": [
    "%%cpp\n",
    "//Use the auto keyword to let the compiler or CLING figure out that make_unique returns a unique_ptr.\n",
    "auto mark4 = std::make_unique<int>(3);\n",
    "mark4"
   ]
  },
  {
   "cell_type": "code",
   "execution_count": null,
   "metadata": {},
   "outputs": [],
   "source": [
    "%%cpp\n",
    "//Create a pointer to an object of type TH1F\n",
    "TH1F* f = new TH1F(\"m\",\"m\",100,0,10);\n",
    "//Close the global directory - this triggers all data it owns to be deleted...\n",
    "gDirectory->Close();\n",
    "//....and so if we attempt to delete the memory pointed at by f we get a crash, because the memory has already\n",
    "//been deleted. gDirectory owns the memory pointed at by f. Need to be careful!\n",
    "delete f;"
   ]
  },
  {
   "cell_type": "code",
   "execution_count": null,
   "metadata": {},
   "outputs": [],
   "source": [
    "%%cpp\n",
    "//Lets try the same thing, using unique_ptr\n",
    "auto f = std::make_unique<TH1F>(\"m2\",\"m2\",100,0,10);\n",
    "//Check what f is\n",
    "*f"
   ]
  },
  {
   "cell_type": "code",
   "execution_count": null,
   "metadata": {},
   "outputs": [],
   "source": [
    "%%cpp\n",
    "//Close the global directory\n",
    "gDirectory->Close();\n",
    "//Now cannot dereference f - gDirectory cleaned up the memory owned by the unique_ptr\n",
    "//This is a design flaw in ROOT - should not be taking ownership of memroy already owned by unique_ptr.\n",
    "*f"
   ]
  },
  {
   "cell_type": "code",
   "execution_count": null,
   "metadata": {},
   "outputs": [],
   "source": [
    "%%cpp\n",
    "//Create a TH1F without using pointers or allocating memory explicitly\n",
    "TH1F marksHist(\"m3\",\"m3\",100,0,10);\n",
    "//See if it is in the global directory\n",
    "gDirectory->ls()"
   ]
  },
  {
   "cell_type": "code",
   "execution_count": null,
   "metadata": {},
   "outputs": [],
   "source": [
    "%%cpp\n",
    "//Close the global directory - which means all memory it owns is cleaned up and objects/variables there deleted.\n",
    "gDirectory->Close();\n",
    "//The global directory does not own marksHist, and so it still exists - avoid using pointers to avoid the above\n",
    "//issues with pointer memory ownership. Of course python also does not have the issue at all.\n",
    "marksHist"
   ]
  },
  {
   "cell_type": "code",
   "execution_count": null,
   "metadata": {},
   "outputs": [],
   "source": [
    "%%cpp\n",
    "TSystemDirectory dir(\"dir\",gSystem->pwd())"
   ]
  },
  {
   "cell_type": "code",
   "execution_count": null,
   "metadata": {
    "scrolled": true
   },
   "outputs": [],
   "source": [
    "%%cpp\n",
    "//Get the list of files - TList is an array of TSystemFile*\n",
    "auto fileList = static_cast<TList*>(dir.GetListOfFiles());\n",
    "//Create a pointer which points at nothing\n",
    "TSystemFile *f = nullptr;\n",
    "//Set up a string to make use of - TString is the ROOT analogy of c++ std::string\n",
    "TString fName;\n",
    "//Create an iterator over the fileList\n",
    "TIter nextFile(fileList);\n",
    "//iterator over the fileList and print the file names\n",
    "while ((f = static_cast<TSystemFile*>(nextFile()))){ fName= f->GetName(); std::cout << fName << std::endl;}"
   ]
  },
  {
   "cell_type": "code",
   "execution_count": null,
   "metadata": {},
   "outputs": [],
   "source": [
    "#The same thing in python\n",
    "#Import all the c++ classes we need\n",
    "from ROOT import TSystemDirectory,gSystem,TSystemFile,TString,TIter\n",
    "#Then set up the same things as was done in the above c++ example\n",
    "dir = TSystemDirectory(\"dir\",gSystem.pwd())\n",
    "fileList = dir.GetListOfFiles()\n",
    "f=TSystemFile()\n",
    "fName=TString()\n",
    "nextFile = TIter(fileList)\n",
    "#Set a counter for our loop\n",
    "counter = 0\n",
    "#print the filename in each iteration and keep going until counter is the length of the list.\n",
    "while counter < len(fileList):\n",
    "    f = nextFile()\n",
    "    print(f.GetName())\n",
    "    counter += 1"
   ]
  },
  {
   "cell_type": "code",
   "execution_count": null,
   "metadata": {},
   "outputs": [],
   "source": [
    "%%cpp\n",
    "//hadding example, with c++\n",
    "//Create a histogram\n",
    "TH1F h1(\"noiseHist\",\"noise\",10000,-100,100);\n",
    "//Fill it using randomly generated numbers\n",
    "for (unsigned int i = 0; i < h1.GetNbinsX(); ++i) h1.SetBinContent(i,-10 + gRandom->Rndm()*20);\n",
    "//Open a new file and a get a pointer, f1, to the TFile. RECREATE ensures any existing file is overwritten.\n",
    "auto f1 = TFile::Open(\"hist1.root\",\"RECREATE\");\n",
    "//Create a canvas and draw the histogram on it.\n",
    "TCanvas canNoise;\n",
    "canNoise.cd();\n",
    "h1.Draw();\n",
    "canNoise.Draw()"
   ]
  },
  {
   "cell_type": "code",
   "execution_count": null,
   "metadata": {},
   "outputs": [],
   "source": [
    "%%cpp\n",
    "//Write the histogtam into the file represented by f1. \n",
    "h1.Write();\n",
    "f1->ls()"
   ]
  },
  {
   "cell_type": "code",
   "execution_count": null,
   "metadata": {},
   "outputs": [],
   "source": [
    "%%cpp\n",
    "//Close the file.\n",
    "f1->Close();"
   ]
  },
  {
   "cell_type": "code",
   "execution_count": null,
   "metadata": {
    "scrolled": true
   },
   "outputs": [],
   "source": [
    "%%cpp\n",
    "//Create another file\n",
    "auto f2 = TFile::Open(\"hist2.root\",\"RECREATE\");\n",
    "//Setup some parameters we will use\n",
    "float pulseWidth = 20;\n",
    "float amp = 200;\n",
    "//Note that the random means we will get different values if we-execute this code.\n",
    "float width = gRandom->Rndm()*0.5*pulseWidth;\n",
    "float sigma = gRandom->Rndm()*0.5*width;\n",
    "//Create a forumula represented by the TF1 class.\n",
    "//Take a look at https://root.cern.ch/doc/master/classTF1.html\n",
    "//The numbers [0] and [1] represent the two parameters we want to use in our forumula.\n",
    "//The valid range of x is -width to + width, specified by the last tow arguments.\n",
    "TF1 myFormula(\"myFormula\",\"[0]*exp(-0.5*(x/[1])*(x/[1]))\",-width,width);\n",
    "//Create a histogram which we will fill up.\n",
    "TH1F h2(\"pulseHist\",\"pulse\",pulseWidth,0,pulseWidth);\n",
    "//Set the two parameters [0] and [1] to correspond to amp and sigma.\n",
    "myFormula.SetParameters(amp,sigma);\n",
    "//Fill our histogram and draw it\n",
    "for (unsigned int i = 0; i < pulseWidth; ++i) h2.SetBinContent(i,myFormula.Derivative(-width + i*2*width/pulseWidth));\n",
    "canNoise.Clear();\n",
    "h2.Draw();\n",
    "canNoise.Draw()                                          "
   ]
  },
  {
   "cell_type": "code",
   "execution_count": null,
   "metadata": {},
   "outputs": [],
   "source": [
    "%%cpp\n",
    "h2.Write();\n",
    "f2->Close();"
   ]
  },
  {
   "cell_type": "code",
   "execution_count": null,
   "metadata": {},
   "outputs": [],
   "source": [
    "#Task3.\n",
    "#Write a python version of the code which creates the two above histograms and writes them to the files."
   ]
  },
  {
   "cell_type": "code",
   "execution_count": null,
   "metadata": {},
   "outputs": [],
   "source": [
    "#The ! tells python to execute the command in the underlying linux system (i.e. terminal command line)\n",
    "#We use hadd to merge our two files.\n",
    "!hadd merged.root hist1.root hist2.root"
   ]
  },
  {
   "cell_type": "code",
   "execution_count": null,
   "metadata": {},
   "outputs": [],
   "source": [
    "#Task 4. Open the merged.root and see what the merged file contains"
   ]
  },
  {
   "cell_type": "code",
   "execution_count": null,
   "metadata": {},
   "outputs": [],
   "source": [
    "%%cpp\n",
    "float x;\n",
    "float y;\n",
    "  \n",
    "t1 = new TTree(\"xy\",\"t1\");\n",
    "t1->Branch(\"x\",&x,\"x/F\");\n",
    "t1->Branch(\"y\",&y,\"y/F\");\n",
    "  \n",
    "for (int i=0; i<1000; i++) {\n",
    "  x = gRandom->Gaus(10,1);\n",
    "  y = gRandom->Gaus(20,2);\n",
    "  t1->Fill();\n",
    "}\n",
    "  \n",
    "f1 = TFile::Open(\"f1.root\",\"recreate\");\n",
    "t1->Write();\n",
    "f1->Close();\n",
    "  \n",
    "t2 = new TTree(\"xy\",\"t2\");\n",
    "t2->Branch(\"x\",&x,\"x/F\");\n",
    "t2->Branch(\"y\",&y,\"y/F\");\n",
    "  \n",
    "for (int i=0; i<1000; i++) {\n",
    "  x = gRandom->Gaus(30,3);\n",
    "  y = gRandom->Gaus(40,4);\n",
    "  t2->Fill();\n",
    " }\n",
    "  \n",
    "f2 = TFile::Open(\"f2.root\",\"recreate\");\n",
    "t2->Write();\n",
    "f2->Close();"
   ]
  },
  {
   "cell_type": "code",
   "execution_count": null,
   "metadata": {},
   "outputs": [],
   "source": [
    "#Initialise a couple of float variables\n",
    "#Note we have to create arrays of size 1, which act as pointers for the TTree to use\n",
    "from array import array\n",
    "x = array('f',[0])\n",
    "y = array('f',[0])\n",
    "#Create a TTree object and specify two branches to represent our float variables x and y\n",
    "from ROOT import TTree\n",
    "myTree1 = TTree(\"xy\",\"tree1\")\n",
    "myTree1.Branch(\"x\",x,\"x/F\")\n",
    "myTree1.Branch(\"y\",y,\"y/F\")\n",
    "from ROOT import gRandom\n",
    "for i in range(0,1000):\n",
    "    #In each loop we sample from a Gaussian randomly. The arguments correspond to the mean and\n",
    "    #width of the Gaussian distribution to use.\n",
    "    x[0] = gRandom.Gaus(10,1)\n",
    "    y[0] = gRandom.Gaus(20,2)\n",
    "    #We also fill the tree on each iteration\n",
    "    myTree1.Fill()   \n",
    "#We open a file and write the tree to disk\n",
    "from ROOT import TFile\n",
    "myFile1 = TFile.Open(\"f1.root\",\"RECREATE\")\n",
    "myTree1.Write()\n",
    "myFile1.Close()\n",
    "\n",
    "#Now repeat for a second tree\n",
    "x2 = array('f',[0])\n",
    "y2 = array('f',[0])\n",
    "#Note the name (first argument) must be identical to the previous tree, if we \n",
    "#want to use it with a TChain\n",
    "myTree2 = TTree(\"xy\",\"tree2\")\n",
    "myTree2.Branch(\"x\",x2,\"x/F\")\n",
    "myTree2.Branch(\"y\",y2,\"y/F\")\n",
    "for i in range(0,1000):\n",
    "    x2[0] = gRandom.Gaus(30,3);\n",
    "    y2[0] = gRandom.Gaus(40,4);\n",
    "    myTree2.Fill()\n",
    "    \n",
    "myFile2 = TFile.Open(\"f2.root\",\"RECREATE\")\n",
    "myTree2.Write()\n",
    "myFile2.Close()\n",
    "\n",
    "#Create a TChain object\n",
    "from ROOT import TChain\n",
    "#Note the name of the TTree to find in each file is xy, and that is why both\n",
    "#of our TTrees had to have the same name.\n",
    "myChain = TChain(\"xy\")\n",
    "#Add both of our files to the chain\n",
    "myChain.Add(\"f1.root\")\n",
    "myChain.Add(\"f2.root\")\n",
    "#Then we can draw variables in the same way as we could for a TTree\n",
    "#But now we get the values of e.g. x in both trees in one go!\n",
    "from ROOT import TCanvas\n",
    "canChain = TCanvas()\n",
    "canChain.cd()\n",
    "myChain.Draw(\"x:y\",\"\",\"box\")\n",
    "canChain.Draw()\n",
    "\n"
   ]
  },
  {
   "cell_type": "code",
   "execution_count": null,
   "metadata": {},
   "outputs": [],
   "source": [
    "#Task 5. Open hist2.root, get the histogram and do a fit to it of an appropriate shape. Try both predefined\n",
    "#functions and your own user defined fit function (TF1)\n",
    "#If you have access to ROOT installed on a computer, do the same using a TBrowser.\n",
    "#Then right click the histogram and select FitPanel"
   ]
  },
  {
   "cell_type": "code",
   "execution_count": null,
   "metadata": {},
   "outputs": [],
   "source": [
    "#You can also make user defined functions depend on other user defined functions\n",
    "from ROOT import TF1\n",
    "sinc = TF1(\"sinc\",\"sin(x)/x\",-20,20)\n",
    "canFit = TCanvas()\n",
    "canFit.cd()\n",
    "sinc.Draw()\n",
    "canFit.Draw()"
   ]
  },
  {
   "cell_type": "code",
   "execution_count": null,
   "metadata": {},
   "outputs": [],
   "source": [
    "secondFunction = TF1(\"secondFunction\",\"sinc*x*x\",-20,20)\n",
    "canFit.Clear()\n",
    "secondFunction.Draw()\n",
    "canFit.Draw()"
   ]
  },
  {
   "cell_type": "code",
   "execution_count": null,
   "metadata": {},
   "outputs": [],
   "source": []
  }
 ],
 "metadata": {
  "kernelspec": {
   "display_name": "Python 3",
   "language": "python",
   "name": "python3"
  },
  "language_info": {
   "codemirror_mode": {
    "name": "ipython",
    "version": 3
   },
   "file_extension": ".py",
   "mimetype": "text/x-python",
   "name": "python",
   "nbconvert_exporter": "python",
   "pygments_lexer": "ipython3",
   "version": "3.7.0"
  }
 },
 "nbformat": 4,
 "nbformat_minor": 2
}
