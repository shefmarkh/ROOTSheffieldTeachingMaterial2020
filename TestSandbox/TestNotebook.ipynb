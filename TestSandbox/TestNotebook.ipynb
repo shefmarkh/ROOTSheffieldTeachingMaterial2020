{
 "cells": [
  {
   "cell_type": "code",
   "execution_count": null,
   "metadata": {},
   "outputs": [],
   "source": [
    "from ROOT import TH1F, TCanvas\n",
    "histPython = TH1F(\"hPython\",\"My First Histogram;x {0}; frequency\",100,10,10)\n",
    "histPython.FillRandom(\"gaus\",2000);\n",
    "canPython = TCanvas()\n",
    "histPython.Draw()\n",
    "canPython.Draw()"
   ]
  },
  {
   "cell_type": "code",
   "execution_count": null,
   "metadata": {},
   "outputs": [],
   "source": []
  }
 ],
 "metadata": {
  "kernelspec": {
   "display_name": "Python 3",
   "language": "python",
   "name": "python3"
  },
  "language_info": {
   "codemirror_mode": {
    "name": "ipython",
    "version": 3
   },
   "file_extension": ".py",
   "mimetype": "text/x-python",
   "name": "python",
   "nbconvert_exporter": "python",
   "pygments_lexer": "ipython3",
   "version": "3.7.0"
  }
 },
 "nbformat": 4,
 "nbformat_minor": 2
}
