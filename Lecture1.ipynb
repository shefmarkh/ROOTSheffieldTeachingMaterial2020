{
 "cells": [
  {
   "cell_type": "code",
   "execution_count": null,
   "metadata": {},
   "outputs": [],
   "source": [
    "#This is a hack to make the %%cpp work inside mybinder.org - ignore\n",
    "from ROOT import TObject"
   ]
  },
  {
   "cell_type": "code",
   "execution_count": null,
   "metadata": {
    "scrolled": true
   },
   "outputs": [],
   "source": [
    "%%cpp\n",
    "//We specify that we are writing C++, rather than python, with the above %%cpp\n",
    "//Create a histogram with 100 bins and a range from -10 to 10 with name \"h\" and titile \"My First Histogam\"\n",
    "TH1F hist(\"h\",\"My First Histogram;x {0}; frequency\",100,10,10);\n",
    "//Fill it with 2000 numbers drawn from a Gaussian shape\n",
    "hist.FillRandom(\"gaus\",2000);"
   ]
  },
  {
   "cell_type": "code",
   "execution_count": null,
   "metadata": {},
   "outputs": [],
   "source": [
    "%%cpp\n",
    "//Note when using ROOT from a linux terminal, it turns out you can skip the two lines about the TCanvas - \n",
    "//this happens automatically behind the scenes\n",
    "TCanvas can;\n",
    "hist.Draw();\n",
    "can.Draw();"
   ]
  },
  {
   "cell_type": "code",
   "execution_count": null,
   "metadata": {},
   "outputs": [],
   "source": [
    "#Now lets try the same in python\n",
    "#In the python case we have to explicitly ask to import the classes (TH1F, TCanvas) that we will use.\n",
    "#We did not have to do anything equivalent in the C++ example above, executed in CLING c++ - CLING C++ is aware \n",
    "#of the ROOT libraries by default, python is not aware by default (hence the need for import statements). \n",
    "from ROOT import TH1F, TCanvas\n",
    "histPython = TH1F(\"hPython\",\"My First Histogram;x {0}; frequency\",100,10,10)\n",
    "histPython.FillRandom(\"gaus\",2000);\n",
    "canPython = TCanvas()\n",
    "histPython.Draw()\n",
    "canPython.Draw()"
   ]
  },
  {
   "cell_type": "code",
   "execution_count": null,
   "metadata": {},
   "outputs": [],
   "source": [
    "#Task 1 - fill a histogram with a landau function and draw it. Use either C++ or python."
   ]
  },
  {
   "cell_type": "code",
   "execution_count": null,
   "metadata": {},
   "outputs": [],
   "source": [
    "%%cpp\n",
    "//Now lets look at unbinned data and graphs\n",
    "//define arrays of floats x and y\n",
    "float x[10];\n",
    "float y[10];\n",
    "//fill the arrays up with some data\n",
    "for (int i = 0; i < 10; ++i) {x[i]=i+1;y[i]=x[i]*x[i];}"
   ]
  },
  {
   "cell_type": "code",
   "execution_count": null,
   "metadata": {},
   "outputs": [],
   "source": [
    "%%cpp\n",
    "//Now create a TGraph using the above data - we specify 10 bins (to match the array sizes of 10) and the arrays\n",
    "//x and y to use for the data.\n",
    "TGraph myGraph(10,x,y);\n",
    "//Then create a TCanvas, cd into it and draw both the TGraph and the TCanvas\n",
    "TCanvas canGraph;\n",
    "canGraph.cd();\n",
    "myGraph.Draw();\n",
    "canGraph.Draw();"
   ]
  },
  {
   "cell_type": "code",
   "execution_count": null,
   "metadata": {},
   "outputs": [],
   "source": [
    "#Now lets do the same in python - note the way we fill arrays is very different to c++!\n",
    "from ROOT import TGraph\n",
    "n=10\n",
    "from array import array\n",
    "x=array('f')\n",
    "y=array('f')\n",
    "for counter in range(n):\n",
    "    x.append(counter+1)\n",
    "    y.append(x[counter]*x[counter])"
   ]
  },
  {
   "cell_type": "code",
   "execution_count": null,
   "metadata": {
    "scrolled": false
   },
   "outputs": [],
   "source": [
    "myGraph = TGraph(n,x,y)\n",
    "#Note we cd into our canvas sued for python, and empty it with the Clear() function - that is because we have already\n",
    "#drawn on this canvas above. The new drawing won't appear without first doing that.\n",
    "canPython.cd()\n",
    "canPython.Clear()\n",
    "myGraph.Draw()\n",
    "canPython.Draw()"
   ]
  },
  {
   "cell_type": "code",
   "execution_count": null,
   "metadata": {},
   "outputs": [],
   "source": [
    "#Task2 - fit a function of type pol2 to the graph in python or c++"
   ]
  },
  {
   "cell_type": "code",
   "execution_count": null,
   "metadata": {},
   "outputs": [],
   "source": [
    "%%cpp\n",
    "//Load the file tree2.root via the TFile object\n",
    "TFile f(\"tree2.root\");\n",
    "//print the contents of the file\n",
    "f.ls();\n",
    "//Note we can't use the TBrowser shown in the lecture notes inside a Jupyter notebook\n",
    "//But we can still print properties of the tree t2\n",
    "t2->GetListOfBranches()->Print();"
   ]
  },
  {
   "cell_type": "code",
   "execution_count": null,
   "metadata": {},
   "outputs": [],
   "source": [
    "#The same thing in python\n",
    "from ROOT import TFile\n",
    "myFile = TFile(\"tree2.root\")\n",
    "t2 = myFile.Get(\"t2;1\")\n",
    "t2.GetListOfBranches().Print()"
   ]
  },
  {
   "cell_type": "code",
   "execution_count": null,
   "metadata": {},
   "outputs": [],
   "source": [
    "#Task 3\n",
    "#Draw the 3D plot of vect components with and without cuts applied, as shown in the lecture notes.\n",
    "#Try out other choices of cuts, first scanning the variable you want to cut on in order to see possible values."
   ]
  },
  {
   "cell_type": "code",
   "execution_count": null,
   "metadata": {},
   "outputs": [],
   "source": [
    "%%cpp\n",
    "t2->Draw(\"destep>>hDEStep\",\"destep\");\n",
    "h2 = static_cast<TH1F*>(gDirectory->Get(\"hDEStep\"));\n",
    "h2->GetMean()"
   ]
  },
  {
   "cell_type": "code",
   "execution_count": null,
   "metadata": {},
   "outputs": [],
   "source": [
    "%%cpp\n",
    "//Create an odd and even histogram for events with odd or even values of the pid variable\n",
    "t2->Draw(\"destep>>hEven\",\"!(pid%2)\");\n",
    "hEven = static_cast<TH1F*>(gDirectory->Get(\"hEven\"));\n",
    "t2->Draw(\"destep>>hOdd\",\"(pid%2)\");\n",
    "hOdd = static_cast<TH1F*>(gDirectory->Get(\"hOdd\"));\n",
    "//Scale both histograms to unity via a factor of 1 divided by their areas\n",
    "hEven->Scale(1./hEven->Integral());\n",
    "hOdd->Scale(1./hOdd->Integral());\n",
    "//Make a copy of the event histogram\n",
    "TH1F hDiff(*hEven);\n",
    "//And then add the odd histogram to that with a weight of -1\n",
    "hDiff.Add(hOdd,-1);\n",
    "can.cd();\n",
    "can.Clear();\n",
    "hDiff.Draw();\n",
    "can.Draw();"
   ]
  },
  {
   "cell_type": "code",
   "execution_count": null,
   "metadata": {},
   "outputs": [],
   "source": [
    "#The same in python\n",
    "t2.Draw(\"destep>>hEven_TH1F\",\"!(pid%2)\")\n",
    "from ROOT import gDirectory\n",
    "gDirectory().ls()\n",
    "hEven_TH1F.Scale(1./hEven_TH1F.Integral())#not working yet - why global directory invisible here?"
   ]
  },
  {
   "cell_type": "code",
   "execution_count": null,
   "metadata": {},
   "outputs": [],
   "source": []
  }
 ],
 "metadata": {
  "kernelspec": {
   "display_name": "Python 3",
   "language": "python",
   "name": "python3"
  },
  "language_info": {
   "codemirror_mode": {
    "name": "ipython",
    "version": 3
   },
   "file_extension": ".py",
   "mimetype": "text/x-python",
   "name": "python",
   "nbconvert_exporter": "python",
   "pygments_lexer": "ipython3",
   "version": "3.7.0"
  }
 },
 "nbformat": 4,
 "nbformat_minor": 2
}
