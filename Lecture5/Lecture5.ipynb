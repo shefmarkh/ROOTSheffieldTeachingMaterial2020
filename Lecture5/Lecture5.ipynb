{
 "cells": [
  {
   "cell_type": "code",
   "execution_count": 1,
   "metadata": {},
   "outputs": [],
   "source": [
    "#This is a hack to make the %%cpp work inside mybinder.org - ignore\n",
    "from ROOT import TObject"
   ]
  },
  {
   "cell_type": "code",
   "execution_count": 3,
   "metadata": {},
   "outputs": [
    {
     "data": {
      "image/png": "[encoded data removed]",
      "text/plain": [
       "<IPython.core.display.Image object>"
      ]
     },
     "metadata": {},
     "output_type": "display_data"
    }
   ],
   "source": [
    "%%cpp\n",
    "//Recall we can read a file, get the TTree from it and draw something\n",
    "ttBarFile = TFile::Open(\"https://atlas-opendata.web.cern.ch/Legacy13TeV/2lep/MC/mc_410000.ttbar_lep.2lep.root\");\n",
    "miniTree = static_cast<TTree*>(ttBarFile->Get(\"mini;1\"));\n",
    "TCanvas can;\n",
    "miniTree->Draw(\"jet_pt[0]\");\n",
    "can.Draw()"
   ]
  },
  {
   "cell_type": "code",
   "execution_count": 4,
   "metadata": {},
   "outputs": [
    {
     "data": {
      "image/png": "[encoded data removed]",
      "text/plain": [
       "<IPython.core.display.Image object>"
      ]
     },
     "metadata": {},
     "output_type": "display_data"
    }
   ],
   "source": [
    "%%cpp\n",
    "//Another way to do the same thing uses a RDataFrame\n",
    "ROOT::RDataFrame myDataFrame(\"mini;1\", \"https://atlas-opendata.web.cern.ch/Legacy13TeV/2lep/MC/mc_410000.ttbar_lep.2lep.root\");\n",
    "auto myHist = myDataFrame.Histo1D(\"jet_pt\");\n",
    "can.Clear();\n",
    "myHist->Draw();\n",
    "can.Draw()"
   ]
  },
  {
   "cell_type": "code",
   "execution_count": 5,
   "metadata": {},
   "outputs": [
    {
     "ename": "TypeError",
     "evalue": "Template method resolution failed:\n  none of the 4 overloaded methods succeeded. Full details:\n  ROOT::RDF::RResultPtr<TH1D> ROOT::RDF::RInterface<ROOT::Detail::RDF::RLoopManager,void>::Histo1D(string_view vName) =>\n    SegmentationViolation: segfault in C++; program state was reset\n  ROOT::RDF::RResultPtr<TH1D> ROOT::RDF::RInterface<ROOT::Detail::RDF::RLoopManager,void>::Histo1D(const ROOT::RDF::TH1DModel& model, string_view vName, string_view wName) =>\n    TypeError: takes at least 3 arguments (1 given)\n  ROOT::RDF::RResultPtr<TH1D> ROOT::RDF::RInterface<ROOT::Detail::RDF::RLoopManager,void>::Histo1D(string_view vName, string_view wName) =>\n    TypeError: takes at least 2 arguments (1 given)\n  ROOT::RDF::RResultPtr<TH1D> ROOT::RDF::RInterface<ROOT::Detail::RDF::RLoopManager,void>::Histo1D(const ROOT::RDF::TH1DModel& model = {\"\", \"\", 128U, 0., 0.}, string_view vName = \"\") =>\n    TypeError: could not convert argument 1",
     "output_type": "error",
     "traceback": [
      "\u001b[0;31m---------------------------------------------------------------------------\u001b[0m",
      "\u001b[0;31mTypeError\u001b[0m                                 Traceback (most recent call last)",
      "Cell \u001b[0;32mIn[5], line 4\u001b[0m\n\u001b[1;32m      2\u001b[0m \u001b[38;5;28;01mfrom\u001b[39;00m \u001b[38;5;21;01mROOT\u001b[39;00m \u001b[38;5;28;01mimport\u001b[39;00m RDataFrame, TCanvas\n\u001b[1;32m      3\u001b[0m myPythonDataFrame \u001b[38;5;241m=\u001b[39m RDataFrame(\u001b[38;5;124m\"\u001b[39m\u001b[38;5;124mmini;1\u001b[39m\u001b[38;5;124m\"\u001b[39m, \u001b[38;5;124m\"\u001b[39m\u001b[38;5;124mhttps://atlas-opendata.web.cern.ch/Legacy13TeV/2lep/MC/mc_410000.ttbar_lep.2lep.root\u001b[39m\u001b[38;5;124m\"\u001b[39m)\n\u001b[0;32m----> 4\u001b[0m myPythonHist \u001b[38;5;241m=\u001b[39m \u001b[43mmyPythonDataFrame\u001b[49m\u001b[38;5;241;43m.\u001b[39;49m\u001b[43mHisto1D\u001b[49m\u001b[43m(\u001b[49m\u001b[38;5;124;43m\"\u001b[39;49m\u001b[38;5;124;43malljet_n\u001b[39;49m\u001b[38;5;124;43m\"\u001b[39;49m\u001b[43m)\u001b[49m\n\u001b[1;32m      5\u001b[0m myPythonCanvas \u001b[38;5;241m=\u001b[39m TCanvas()\n\u001b[1;32m      6\u001b[0m myPythonHist\u001b[38;5;241m.\u001b[39mDraw()\n",
      "File \u001b[0;32m/opt/hep/root/6.32.00.patches/lib/ROOT/_pythonization/_rdataframe.py:407\u001b[0m, in \u001b[0;36mHistoProfileWrapper.__call__\u001b[0;34m(self, *args)\u001b[0m\n\u001b[1;32m    403\u001b[0m         res \u001b[38;5;241m=\u001b[39m \u001b[38;5;28mself\u001b[39m\u001b[38;5;241m.\u001b[39m_original_method(model)\n\u001b[1;32m    404\u001b[0m \u001b[38;5;66;03m# If the first argument is not a tuple, nothing to do, just call\u001b[39;00m\n\u001b[1;32m    405\u001b[0m \u001b[38;5;66;03m# the original implementation\u001b[39;00m\n\u001b[1;32m    406\u001b[0m \u001b[38;5;28;01melse\u001b[39;00m:\n\u001b[0;32m--> 407\u001b[0m     res \u001b[38;5;241m=\u001b[39m \u001b[38;5;28;43mself\u001b[39;49m\u001b[38;5;241;43m.\u001b[39;49m\u001b[43m_original_method\u001b[49m\u001b[43m(\u001b[49m\u001b[38;5;241;43m*\u001b[39;49m\u001b[43margs\u001b[49m\u001b[43m)\u001b[49m\n\u001b[1;32m    409\u001b[0m \u001b[38;5;28;01mreturn\u001b[39;00m res\n",
      "\u001b[0;31mTypeError\u001b[0m: Template method resolution failed:\n  none of the 4 overloaded methods succeeded. Full details:\n  ROOT::RDF::RResultPtr<TH1D> ROOT::RDF::RInterface<ROOT::Detail::RDF::RLoopManager,void>::Histo1D(string_view vName) =>\n    SegmentationViolation: segfault in C++; program state was reset\n  ROOT::RDF::RResultPtr<TH1D> ROOT::RDF::RInterface<ROOT::Detail::RDF::RLoopManager,void>::Histo1D(const ROOT::RDF::TH1DModel& model, string_view vName, string_view wName) =>\n    TypeError: takes at least 3 arguments (1 given)\n  ROOT::RDF::RResultPtr<TH1D> ROOT::RDF::RInterface<ROOT::Detail::RDF::RLoopManager,void>::Histo1D(string_view vName, string_view wName) =>\n    TypeError: takes at least 2 arguments (1 given)\n  ROOT::RDF::RResultPtr<TH1D> ROOT::RDF::RInterface<ROOT::Detail::RDF::RLoopManager,void>::Histo1D(const ROOT::RDF::TH1DModel& model = {\"\", \"\", 128U, 0., 0.}, string_view vName = \"\") =>\n    TypeError: could not convert argument 1"
     ]
    },
    {
     "name": "stdout",
     "output_type": "stream",
     "text": [
      "[/opt/hep/root/6.32.00.patches/lib/libcppyy_backend.so] (anonymous namespace)::TExceptionHandlerImp::HandleException(int) (no debug info)\n",
      "[/opt/hep/root/6.32.00.patches/lib/libCore.so] TUnixSystem::DispatchSignals(ESignals) (no debug info)\n",
      "[/usr/lib/system/libsystem_platform.dylib] _sigtramp (no debug info)\n",
      "[/usr/lib/system/libunwind.dylib] unw_set_reg (no debug info)\n",
      "[/usr/lib/libc++abi.dylib] __gxx_personality_v0 (no debug info)\n",
      "[/usr/lib/system/libunwind.dylib] unwind_phase2 (no debug info)\n",
      "[/usr/lib/system/libunwind.dylib] _Unwind_Resume (no debug info)\n",
      "[/opt/hep/root/6.32.00.patches/lib/libROOTDataFrame.so] ROOT::Internal::RDF::GetValidatedColumnNames(ROOT::Detail::RDF::RLoopManager&, unsigned int, std::__1::vector<std::__1::basic_string<char, std::__1::char_traits<char>, std::__1::allocator<char>>, std::__1::allocator<std::__1::basic_string<char, std::__1::char_traits<char>, std::__1::allocator<char>>>> const&, ROOT::Internal::RDF::RColumnRegister const&, ROOT::RDF::RDataSource*) (no debug info)\n",
      "[<unknown binary>] (no debug info)\n",
      "[<unknown binary>] (no debug info)\n",
      "[/opt/hep/root/6.32.00.patches/lib/libcppyy_backend.so] WrapperCall(long, unsigned long, void*, void*, void*) (no debug info)\n",
      "[/opt/hep/root/6.32.00.patches/lib/libcppyy_backend.so] Cppyy::CallO(long, void*, unsigned long, void*, unsigned long) (no debug info)\n",
      "[/opt/hep/root/6.32.00.patches/lib/libcppyy.so] CPyCppyy::(anonymous namespace)::InstanceExecutor::Execute(long, void*, CPyCppyy::CallContext*) (no debug info)\n",
      "[/opt/hep/root/6.32.00.patches/lib/libcppyy.so] CPyCppyy::CPPMethod::ExecuteFast(void*, long, CPyCppyy::CallContext*) (no debug info)\n",
      "[/opt/hep/root/6.32.00.patches/lib/libcppyy.so] CPyCppyy::CPPMethod::ExecuteProtected(void*, long, CPyCppyy::CallContext*) (no debug info)\n",
      "[/opt/hep/root/6.32.00.patches/lib/libcppyy.so] CPyCppyy::CPPMethod::Call(CPyCppyy::CPPInstance*&, _object* const*, unsigned long, _object*, CPyCppyy::CallContext*) (no debug info)\n",
      "[/opt/hep/root/6.32.00.patches/lib/libcppyy.so] CPyCppyy::(anonymous namespace)::mp_vectorcall(CPyCppyy::CPPOverload*, _object* const*, unsigned long, _object*) (no debug info)\n",
      "[/opt/hep/root/6.32.00.patches/lib/libcppyy.so] CPyCppyy::SelectAndForward(CPyCppyy::TemplateProxy*, CPyCppyy::CPPOverload*, _object* const*, unsigned long, _object*, bool, bool, unsigned long long, std::__1::vector<CPyCppyy::Utility::PyError_t, std::__1::allocator<CPyCppyy::Utility::PyError_t>>&) (no debug info)\n",
      "[/opt/hep/root/6.32.00.patches/lib/libcppyy.so] CPyCppyy::tpp_vectorcall(CPyCppyy::TemplateProxy*, _object* const*, unsigned long, _object*) (no debug info)\n",
      "[/opt/homebrew/Cellar/python@3.12/3.12.7_1/Frameworks/Python.framework/Versions/3.12/Python] _PyEval_EvalFrameDefault (no debug info)\n",
      "[/opt/homebrew/Cellar/python@3.12/3.12.7_1/Frameworks/Python.framework/Versions/3.12/Python] _PyObject_FastCallDictTstate (no debug info)\n",
      "[/opt/homebrew/Cellar/python@3.12/3.12.7_1/Frameworks/Python.framework/Versions/3.12/Python] _PyObject_Call_Prepend (no debug info)\n",
      "[/opt/homebrew/Cellar/python@3.12/3.12.7_1/Frameworks/Python.framework/Versions/3.12/Python] slot_tp_call (no debug info)\n",
      "[/opt/homebrew/Cellar/python@3.12/3.12.7_1/Frameworks/Python.framework/Versions/3.12/Python] _PyObject_MakeTpCall (no debug info)\n",
      "[/opt/homebrew/Cellar/python@3.12/3.12.7_1/Frameworks/Python.framework/Versions/3.12/Python] _PyEval_EvalFrameDefault (no debug info)\n",
      "[/opt/homebrew/Cellar/python@3.12/3.12.7_1/Frameworks/Python.framework/Versions/3.12/Python] PyEval_EvalCode (no debug info)\n",
      "[/opt/homebrew/Cellar/python@3.12/3.12.7_1/Frameworks/Python.framework/Versions/3.12/Python] builtin_exec (no debug info)\n",
      "[/opt/homebrew/Cellar/python@3.12/3.12.7_1/Frameworks/Python.framework/Versions/3.12/Python] _PyEval_EvalFrameDefault (no debug info)\n",
      "[/opt/homebrew/Cellar/python@3.12/3.12.7_1/Frameworks/Python.framework/Versions/3.12/Python] gen_send_ex2 (no debug info)\n",
      "[/opt/homebrew/Cellar/python@3.12/3.12.7_1/Frameworks/Python.framework/Versions/3.12/Python] gen_send_ex (no debug info)\n",
      "[/opt/homebrew/Cellar/python@3.12/3.12.7_1/Frameworks/Python.framework/Versions/3.12/Python] _PyEval_EvalFrameDefault (no debug info)\n",
      "[/opt/homebrew/Cellar/python@3.12/3.12.7_1/Frameworks/Python.framework/Versions/3.12/Python] method_vectorcall (no debug info)\n",
      "[/opt/homebrew/Cellar/python@3.12/3.12.7_1/Frameworks/Python.framework/Versions/3.12/Python] _PyVectorcall_Call (no debug info)\n",
      "[/opt/homebrew/Cellar/python@3.12/3.12.7_1/Frameworks/Python.framework/Versions/3.12/Python] _PyEval_EvalFrameDefault (no debug info)\n",
      "[/opt/homebrew/Cellar/python@3.12/3.12.7_1/Frameworks/Python.framework/Versions/3.12/Python] gen_send_ex2 (no debug info)\n",
      "[/opt/homebrew/Cellar/python@3.12/3.12.7_1/Frameworks/Python.framework/Versions/3.12/lib/python3.12/lib-dynload/_asyncio.cpython-312-darwin.so] task_step_impl (no debug info)\n",
      "[/opt/homebrew/Cellar/python@3.12/3.12.7_1/Frameworks/Python.framework/Versions/3.12/lib/python3.12/lib-dynload/_asyncio.cpython-312-darwin.so] task_step (no debug info)\n",
      "[/opt/homebrew/Cellar/python@3.12/3.12.7_1/Frameworks/Python.framework/Versions/3.12/lib/python3.12/lib-dynload/_asyncio.cpython-312-darwin.so] task_wakeup (no debug info)\n",
      "[/opt/homebrew/Cellar/python@3.12/3.12.7_1/Frameworks/Python.framework/Versions/3.12/Python] cfunction_vectorcall_O (no debug info)\n",
      "[/opt/homebrew/Cellar/python@3.12/3.12.7_1/Frameworks/Python.framework/Versions/3.12/Python] _PyObject_VectorcallTstate (no debug info)\n",
      "[/opt/homebrew/Cellar/python@3.12/3.12.7_1/Frameworks/Python.framework/Versions/3.12/Python] context_run (no debug info)\n",
      "[/opt/homebrew/Cellar/python@3.12/3.12.7_1/Frameworks/Python.framework/Versions/3.12/Python] cfunction_vectorcall_FASTCALL_KEYWORDS (no debug info)\n",
      "[/opt/homebrew/Cellar/python@3.12/3.12.7_1/Frameworks/Python.framework/Versions/3.12/Python] _PyEval_EvalFrameDefault (no debug info)\n",
      "[/opt/homebrew/Cellar/python@3.12/3.12.7_1/Frameworks/Python.framework/Versions/3.12/Python] PyEval_EvalCode (no debug info)\n",
      "[/opt/homebrew/Cellar/python@3.12/3.12.7_1/Frameworks/Python.framework/Versions/3.12/Python] builtin_exec (no debug info)\n",
      "[/opt/homebrew/Cellar/python@3.12/3.12.7_1/Frameworks/Python.framework/Versions/3.12/Python] cfunction_vectorcall_FASTCALL_KEYWORDS (no debug info)\n",
      "[/opt/homebrew/Cellar/python@3.12/3.12.7_1/Frameworks/Python.framework/Versions/3.12/Python] _PyEval_EvalFrameDefault (no debug info)\n",
      "[/opt/homebrew/Cellar/python@3.12/3.12.7_1/Frameworks/Python.framework/Versions/3.12/Python] pymain_run_module (no debug info)\n",
      "[/opt/homebrew/Cellar/python@3.12/3.12.7_1/Frameworks/Python.framework/Versions/3.12/Python] Py_RunMain (no debug info)\n",
      "[/opt/homebrew/Cellar/python@3.12/3.12.7_1/Frameworks/Python.framework/Versions/3.12/Python] pymain_main (no debug info)\n",
      "[/opt/homebrew/Cellar/python@3.12/3.12.7_1/Frameworks/Python.framework/Versions/3.12/Python] Py_BytesMain (no debug info)\n",
      "[/usr/lib/dyld] start (no debug info)\n"
     ]
    },
    {
     "name": "stderr",
     "output_type": "stream",
     "text": [
      " *** Break *** segmentation violation\n"
     ]
    }
   ],
   "source": [
    "#Lets repeat in python\n",
    "from ROOT import RDataFrame, TCanvas\n",
    "myPythonDataFrame = RDataFrame(\"mini;1\", \"https://atlas-opendata.web.cern.ch/Legacy13TeV/2lep/MC/mc_410000.ttbar_lep.2lep.root\")\n",
    "myPythonHist = myPythonDataFrame.Histo1D(\"jet_n\")\n",
    "myPythonCanvas = TCanvas()\n",
    "myPythonHist.Draw()\n",
    "myPythonCanvas.Draw()"
   ]
  },
  {
   "cell_type": "code",
   "execution_count": null,
   "metadata": {},
   "outputs": [],
   "source": [
    "#We see above the number of jets varies by event\n",
    "#What if we want to plot the jet_pt for events with exactly four jets?\n",
    "#We do the same thing and add a Filter - the string should be c++ style code (will crash if its invalid..)\n",
    "myJetPtHist = myPythonDataFrame.Filter(\"4 == jet_n\").Histo1D(\"jet_pt\")\n",
    "myJetPtHist.Draw()\n",
    "myPythonCanvas.Draw()"
   ]
  },
  {
   "cell_type": "code",
   "execution_count": null,
   "metadata": {},
   "outputs": [],
   "source": [
    "#What if we want to plot the leading jet pt only, rather than pt of all jets? Asking to draw jet_pt[0] won't work\n",
    "#So instead we have to define the variable ourselves and we also filter the data to remove events without jets\n",
    "#Otherwise accessing jet_pt[0] would cause a crash due to an invalid entry in the array.\n",
    "myNewDataFrame = myPythonDataFrame.Filter(\"jet_n > 0\").Define(\"leadingJetPt\",\"return jet_pt[0]\")\n",
    "myLeadingJetPtHist = myNewDataFrame.Histo1D(\"leadingJetPt\")\n",
    "myLeadingJetPtHist.Draw()\n",
    "myPythonCanvas.Draw()\n",
    "#We see this is identical to the histogram we made from the TTree at the start of this workbook."
   ]
  },
  {
   "cell_type": "code",
   "execution_count": null,
   "metadata": {},
   "outputs": [],
   "source": [
    "#Task 1 - create a new data frame with a typical semi-leptonic ttbar event selection consisting of\n",
    "#exactly one lepton, at least four jets and at least one b-tagged jet\n",
    "#Then plot the HT variable - this is the scalar sum of jet pt and Missing ET\n",
    "#Hints: Information about the variables in the open data is here:\n",
    "#http://opendata.atlas.cern/release/2020/documentation/datasets/dataset13.html"
   ]
  },
  {
   "cell_type": "code",
   "execution_count": null,
   "metadata": {},
   "outputs": [],
   "source": [
    "%%cpp\n",
    "//What if we want to filter our data using variables not part of the TTree?\n",
    "//We use lambda capture functions.\n",
    "//First define a cut value to use\n",
    "float ptCut = 20;\n",
    "//Then define a lambda function - it looks like usual in c++, except for the [&ptCut] which\n",
    "//\"captures\" our ptCut variable above and uses it in the function\n",
    "//But note that the standard c++ is as follows:\n",
    "//auto ptCutFunction = [&ptCut](double pt){return pt > ptCut;};\n",
    "//whilst in CLING it won't work if you explicitly ask to capture, though it captures anyway.\n",
    "auto ptCutFunction = [](double pt){return pt > ptCut;};\n",
    "//Then we first make sure we only use data with 2 jets and 1 lepton\n",
    "auto myFilteredData = myDataFrame.Filter(\"jet_n >= 2 && lep_n > 1\");\n",
    "//Now use the lambda function inside the Filter function - just name the function and tell\n",
    "//it the name of the variable to pass as the argument (i.e. pt)\n",
    "auto myFilteredDataB = myFilteredData.Define(\"leadingJetPt\",\"return jet_pt[0]\").Filter(ptCutFunction,{\"leadingJetPt\"});\n",
    "//filter it again using the second jet pt\n",
    "auto myFilteredDataC = myFilteredDataB.Define(\"jetPt2\",\"return jet_pt[1]\").Filter(ptCutFunction,{\"jetPt2\"});\n"
   ]
  },
  {
   "cell_type": "code",
   "execution_count": null,
   "metadata": {},
   "outputs": [],
   "source": [
    "#How do we do the same in python?\n",
    "#Well it would look like this...\n",
    "#ptCut = 20\n",
    "#ptCutFunction = lambda pt, ptCut: pt > ptCut\n",
    "#But RDataFrame does not support that, instead we use a special syntax to define via c++\n",
    "import ROOT\n",
    "ROOT.gInterpreter.Declare(\"\"\"\n",
    "auto ptCutFunctionB = [](double pt){return pt > 50;};\n",
    "\"\"\")\n",
    "myFilteredData = myPythonDataFrame.Define(\"leadingJetPt\",\"return jet_pt[0]\").Filter(\"ptCutFunctionB(leadingJetPt)\")"
   ]
  },
  {
   "cell_type": "code",
   "execution_count": null,
   "metadata": {},
   "outputs": [],
   "source": [
    "#Can we make this more pythonic? Yes we can translate to python numpy arrays and eventually a pandas data frame\n",
    "myArray = myPythonDataFrame.AsNumpy(columns=[\"jet_n\",\"jet_pt\"])\n",
    "import pandas\n",
    "df = pandas.DataFrame(myArray)"
   ]
  },
  {
   "cell_type": "code",
   "execution_count": null,
   "metadata": {},
   "outputs": [],
   "source": [
    "#This looks familiar from Lecture 4, where we got a panda dataframe via uproot\n",
    "df"
   ]
  },
  {
   "cell_type": "code",
   "execution_count": null,
   "metadata": {},
   "outputs": [],
   "source": [
    "#Lets count how many events we have - Count() returns a RResultPtr\n",
    "#https://root.cern/doc/master/classROOT_1_1RDF_1_1RResultPtr.html\n",
    "#which has a method GetValue() which returns the value the smart pointer points to\n",
    "print(myPythonDataFrame.Count().GetValue())\n",
    "print(myPythonDataFrame.Filter(\"jet_n>0\").Count().GetValue())"
   ]
  },
  {
   "cell_type": "code",
   "execution_count": null,
   "metadata": {},
   "outputs": [],
   "source": [
    "#Task 2 print out a cutflow (i.e. the number of events passing each cut applied) for a typical semi-leptonic selection.\n",
    "#Print out the efficiency too (number of events selected/number of events) of each step."
   ]
  }
 ],
 "metadata": {
  "kernelspec": {
   "display_name": "Python 3 (ipykernel)",
   "language": "python",
   "name": "python3"
  },
  "language_info": {
   "codemirror_mode": {
    "name": "ipython",
    "version": 3
   },
   "file_extension": ".py",
   "mimetype": "text/x-python",
   "name": "python",
   "nbconvert_exporter": "python",
   "pygments_lexer": "ipython3",
   "version": "3.12.7"
  }
 },
 "nbformat": 4,
 "nbformat_minor": 4
}
