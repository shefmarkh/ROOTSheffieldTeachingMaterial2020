{
 "cells": [
  {
   "cell_type": "code",
   "execution_count": null,
   "metadata": {},
   "outputs": [],
   "source": [
    "#This is a hack to make the %%cpp work inside mybinder.org - ignore\n",
    "from ROOT import TObject"
   ]
  },
  {
   "cell_type": "code",
   "execution_count": null,
   "metadata": {},
   "outputs": [],
   "source": [
    "%%cpp\n",
    "//Recall we can read a file, get the TTree from it and draw something\n",
    "ttBarFile = TFile::Open(\"https://atlas-opendata.web.cern.ch/Legacy13TeV/2lep/MC/mc_410000.ttbar_lep.2lep.root\");\n",
    "miniTree = static_cast<TTree*>(ttBarFile->Get(\"mini;1\"));\n",
    "TCanvas can;\n",
    "miniTree->Draw(\"jet_pt[0]\");\n",
    "can.Draw()"
   ]
  },
  {
   "cell_type": "code",
   "execution_count": null,
   "metadata": {},
   "outputs": [],
   "source": [
    "%%cpp\n",
    "//Another way to do the same thing uses a RDataFrame\n",
    "ROOT::RDataFrame myDataFrame(\"mini;1\", \"https://atlas-opendata.web.cern.ch/Legacy13TeV/2lep/MC/mc_410000.ttbar_lep.2lep.root\");\n",
    "auto myHist = myDataFrame.Histo1D(\"jet_pt\");\n",
    "can.Clear();\n",
    "myHist->Draw();\n",
    "can.Draw()"
   ]
  },
  {
   "cell_type": "code",
   "execution_count": null,
   "metadata": {},
   "outputs": [],
   "source": [
    "#Lets repeat in python\n",
    "from ROOT import RDataFrame, TCanvas\n",
    "myPythonDataFrame = RDataFrame(\"mini;1\", \"https://atlas-opendata.web.cern.ch/Legacy13TeV/2lep/MC/mc_410000.ttbar_lep.2lep.root\")\n",
    "myPythonHist = myPythonDataFrame.Histo1D(\"jet_n\")\n",
    "myPythonCanvas = TCanvas()\n",
    "myPythonHist.Draw()\n",
    "myPythonCanvas.Draw()"
   ]
  },
  {
   "cell_type": "code",
   "execution_count": null,
   "metadata": {},
   "outputs": [],
   "source": [
    "#We see above the number of jets varies by event\n",
    "#What if we want to plot the jet_pt for events with exactly four jets?\n",
    "#We do the same thing and add a Filter - the string should be c++ style code (will crash if its invalid..)\n",
    "myJetPtHist = myPythonDataFrame.Filter(\"4 == jet_n\").Histo1D(\"jet_pt\")\n",
    "myJetPtHist.Draw()\n",
    "myPythonCanvas.Draw()"
   ]
  },
  {
   "cell_type": "code",
   "execution_count": null,
   "metadata": {},
   "outputs": [],
   "source": [
    "#What if we want to plot the leading jet pt only, rather than pt of all jets? Asking to draw jet_pt[0] won't work\n",
    "#So instead we have to define the variable ourselves and we also filter the data to remove events without jets\n",
    "#Otherwise accessing jet_pt[0] would cause a crash due to an invalid entry in the array.\n",
    "myNewDataFrame = myPythonDataFrame.Filter(\"jet_n > 0\").Define(\"leadingJetPt\",\"return jet_pt[0]\")\n",
    "myLeadingJetPtHist = myNewDataFrame.Histo1D(\"leadingJetPt\")\n",
    "myLeadingJetPtHist.Draw()\n",
    "myPythonCanvas.Draw()\n",
    "#We see this is identical to the histogram we made from the TTree at the start of this workbook."
   ]
  },
  {
   "cell_type": "code",
   "execution_count": null,
   "metadata": {},
   "outputs": [],
   "source": [
    "#Task 1 - create a new data frame with a typical semi-leptonic ttbar event selection consisting of\n",
    "#exactly one lepton, at least four jets and at least one b-tagged jet\n",
    "#Then plot the HT variable - this is the scalar sum of jet pt and Missing ET\n",
    "#Hints: Information about the variables in the open data is here:\n",
    "#http://opendata.atlas.cern/release/2020/documentation/datasets/dataset13.html"
   ]
  },
  {
   "cell_type": "code",
   "execution_count": null,
   "metadata": {},
   "outputs": [],
   "source": [
    "%%cpp\n",
    "//What if we want to filter our data using variables not part of the TTree?\n",
    "//We use lambda capture functions.\n",
    "//First define a cut value to use\n",
    "float ptCut = 20;\n",
    "//Then define a lambda function - it looks like usual in c++, except for the [&ptCut] which\n",
    "//you can ignore.\n",
    "//note in standard CLING you don't need the \"&ptCut\" which is implicit.\n",
    "auto ptCutFunction = [&ptCut](double pt){return pt > ptCut;};\n",
    "//Then we first make sure we only use data with 2 jets and 1 lepton\n",
    "auto myFilteredData = myDataFrame.Filter(\"jet_n >= 2 && lep_n > 1\");\n",
    "//Now use the lambda function inside the Filter function - just name the function and tell\n",
    "//it the name of the variable to pass as the argument (i.e. pt)\n",
    "auto myFilteredDataB = myFilteredData.Define(\"leadingJetPt\",\"return jet_pt[0]\").Filter(ptCutFunction,{\"leadingJetPt\"});\n",
    "//filter it again using the second jet pt\n",
    "auto myFilteredDataC = myFilteredDataB.Define(\"jetPt2\",\"return jet_pt[1]\").Filter(ptCutFunction,{\"jetPt2\"});\n"
   ]
  },
  {
   "cell_type": "code",
   "execution_count": null,
   "metadata": {},
   "outputs": [],
   "source": [
    "#How do we do the same in python?\n",
    "#Well it would look like this...\n",
    "#ptCut = 20\n",
    "#ptCutFunction = lambda pt, ptCut: pt > ptCut\n",
    "#But RDataFrame does not support that, instead we use a special syntax to define via c++\n",
    "import ROOT\n",
    "ROOT.gInterpreter.Declare(\"\"\"\n",
    "auto ptCutFunctionB = [](double pt){return pt > 50;};\n",
    "\"\"\")\n",
    "myFilteredData = myPythonDataFrame.Define(\"leadingJetPt\",\"return jet_pt[0]\").Filter(\"ptCutFunctionB(leadingJetPt)\")"
   ]
  },
  {
   "cell_type": "code",
   "execution_count": null,
   "metadata": {},
   "outputs": [],
   "source": [
    "#Can we make this more pythonic? Yes we can translate to python numpy arrays and eventually a pandas data frame\n",
    "myArray = myPythonDataFrame.AsNumpy(columns=[\"jet_n\",\"jet_pt\"])\n",
    "import pandas\n",
    "df = pandas.DataFrame(myArray)"
   ]
  },
  {
   "cell_type": "code",
   "execution_count": null,
   "metadata": {},
   "outputs": [],
   "source": [
    "#This looks familiar from Lecture 4, where we got a panda dataframe via uproot\n",
    "df"
   ]
  },
  {
   "cell_type": "code",
   "execution_count": null,
   "metadata": {},
   "outputs": [],
   "source": [
    "#Lets count how many events we have - Count() returns a RResultPtr\n",
    "#https://root.cern/doc/master/classROOT_1_1RDF_1_1RResultPtr.html\n",
    "#which has a method GetValue() which returns the value the smart pointer points to\n",
    "print(myPythonDataFrame.Count().GetValue())\n",
    "print(myPythonDataFrame.Filter(\"jet_n>0\").Count().GetValue())"
   ]
  },
  {
   "cell_type": "code",
   "execution_count": null,
   "metadata": {},
   "outputs": [],
   "source": [
    "#Task 2 print out a cutflow (i.e. the number of events passing each cut applied) for a typical semi-leptonic selection.\n",
    "#Print out the efficiency too (number of events selected/number of events) of each step."
   ]
  }
 ],
 "metadata": {
  "kernelspec": {
   "display_name": "Python 3 (ipykernel)",
   "language": "python",
   "name": "python3"
  },
  "language_info": {
   "codemirror_mode": {
    "name": "ipython",
    "version": 3
   },
   "file_extension": ".py",
   "mimetype": "text/x-python",
   "name": "python",
   "nbconvert_exporter": "python",
   "pygments_lexer": "ipython3",
   "version": "3.12.7"
  }
 },
 "nbformat": 4,
 "nbformat_minor": 4
}
