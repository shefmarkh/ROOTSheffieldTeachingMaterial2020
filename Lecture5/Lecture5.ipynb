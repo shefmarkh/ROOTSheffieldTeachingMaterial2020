{
 "cells": [
  {
   "cell_type": "code",
   "execution_count": 1,
   "metadata": {},
   "outputs": [
    {
     "ename": "ImportError",
     "evalue": "Failed to import libcppyy3_7. Please check that ROOT has been built for Python 3.7",
     "output_type": "error",
     "traceback": [
      "\u001b[0;31m---------------------------------------------------------------------------\u001b[0m",
      "\u001b[0;31mModuleNotFoundError\u001b[0m                       Traceback (most recent call last)",
      "\u001b[0;32m/Applications/root_v6.22.06/lib/cppyy/__init__.py\u001b[0m in \u001b[0;36m<module>\u001b[0;34m\u001b[0m\n\u001b[1;32m     59\u001b[0m \u001b[0;32mtry\u001b[0m\u001b[0;34m:\u001b[0m\u001b[0;34m\u001b[0m\u001b[0m\n\u001b[0;32m---> 60\u001b[0;31m     \u001b[0mimportlib\u001b[0m\u001b[0;34m.\u001b[0m\u001b[0mimport_module\u001b[0m\u001b[0;34m(\u001b[0m\u001b[0mlibcppyy_mod_name\u001b[0m\u001b[0;34m)\u001b[0m\u001b[0;34m\u001b[0m\u001b[0m\n\u001b[0m\u001b[1;32m     61\u001b[0m \u001b[0;32mexcept\u001b[0m \u001b[0mImportError\u001b[0m\u001b[0;34m:\u001b[0m\u001b[0;34m\u001b[0m\u001b[0m\n",
      "\u001b[0;32m/Library/Frameworks/Python.framework/Versions/3.7/lib/python3.7/importlib/__init__.py\u001b[0m in \u001b[0;36mimport_module\u001b[0;34m(name, package)\u001b[0m\n\u001b[1;32m    126\u001b[0m             \u001b[0mlevel\u001b[0m \u001b[0;34m+=\u001b[0m \u001b[0;36m1\u001b[0m\u001b[0;34m\u001b[0m\u001b[0m\n\u001b[0;32m--> 127\u001b[0;31m     \u001b[0;32mreturn\u001b[0m \u001b[0m_bootstrap\u001b[0m\u001b[0;34m.\u001b[0m\u001b[0m_gcd_import\u001b[0m\u001b[0;34m(\u001b[0m\u001b[0mname\u001b[0m\u001b[0;34m[\u001b[0m\u001b[0mlevel\u001b[0m\u001b[0;34m:\u001b[0m\u001b[0;34m]\u001b[0m\u001b[0;34m,\u001b[0m \u001b[0mpackage\u001b[0m\u001b[0;34m,\u001b[0m \u001b[0mlevel\u001b[0m\u001b[0;34m)\u001b[0m\u001b[0;34m\u001b[0m\u001b[0m\n\u001b[0m\u001b[1;32m    128\u001b[0m \u001b[0;34m\u001b[0m\u001b[0m\n",
      "\u001b[0;32m/Library/Frameworks/Python.framework/Versions/3.7/lib/python3.7/importlib/_bootstrap.py\u001b[0m in \u001b[0;36m_gcd_import\u001b[0;34m(name, package, level)\u001b[0m\n",
      "\u001b[0;32m/Library/Frameworks/Python.framework/Versions/3.7/lib/python3.7/importlib/_bootstrap.py\u001b[0m in \u001b[0;36m_find_and_load\u001b[0;34m(name, import_)\u001b[0m\n",
      "\u001b[0;32m/Library/Frameworks/Python.framework/Versions/3.7/lib/python3.7/importlib/_bootstrap.py\u001b[0m in \u001b[0;36m_find_and_load_unlocked\u001b[0;34m(name, import_)\u001b[0m\n",
      "\u001b[0;31mModuleNotFoundError\u001b[0m: No module named 'libcppyy3_7'",
      "\nDuring handling of the above exception, another exception occurred:\n",
      "\u001b[0;31mImportError\u001b[0m                               Traceback (most recent call last)",
      "\u001b[0;32m<ipython-input-1-06c94ae5df28>\u001b[0m in \u001b[0;36m<module>\u001b[0;34m\u001b[0m\n\u001b[1;32m      1\u001b[0m \u001b[0;31m#This is a hack to make the %%cpp work inside mybinder.org - ignore\u001b[0m\u001b[0;34m\u001b[0m\u001b[0;34m\u001b[0m\u001b[0m\n\u001b[0;32m----> 2\u001b[0;31m \u001b[0;32mfrom\u001b[0m \u001b[0mROOT\u001b[0m \u001b[0;32mimport\u001b[0m \u001b[0mTObject\u001b[0m\u001b[0;34m\u001b[0m\u001b[0m\n\u001b[0m",
      "\u001b[0;32m/Applications/root_v6.22.06/lib/ROOT/__init__.py\u001b[0m in \u001b[0;36m<module>\u001b[0;34m\u001b[0m\n\u001b[1;32m     20\u001b[0m \u001b[0menviron\u001b[0m\u001b[0;34m[\u001b[0m\u001b[0;34m'CPPYY_NO_ROOT_FILTER'\u001b[0m\u001b[0;34m]\u001b[0m \u001b[0;34m=\u001b[0m \u001b[0;34m'1'\u001b[0m\u001b[0;34m\u001b[0m\u001b[0m\n\u001b[1;32m     21\u001b[0m \u001b[0;34m\u001b[0m\u001b[0m\n\u001b[0;32m---> 22\u001b[0;31m \u001b[0;32mimport\u001b[0m \u001b[0mcppyy\u001b[0m\u001b[0;34m\u001b[0m\u001b[0m\n\u001b[0m\u001b[1;32m     23\u001b[0m \u001b[0;32mif\u001b[0m \u001b[0;32mnot\u001b[0m \u001b[0;34m'ROOTSYS'\u001b[0m \u001b[0;32min\u001b[0m \u001b[0menviron\u001b[0m\u001b[0;34m:\u001b[0m\u001b[0;34m\u001b[0m\u001b[0m\n\u001b[1;32m     24\u001b[0m     \u001b[0;31m# Revert setting made by cppyy\u001b[0m\u001b[0;34m\u001b[0m\u001b[0;34m\u001b[0m\u001b[0m\n",
      "\u001b[0;32m/Applications/root_v6.22.06/lib/cppyy/__init__.py\u001b[0m in \u001b[0;36m<module>\u001b[0;34m\u001b[0m\n\u001b[1;32m     62\u001b[0m     raise ImportError(\n\u001b[1;32m     63\u001b[0m             'Failed to import {}. Please check that ROOT has been built for Python {}.{}'.format(\n\u001b[0;32m---> 64\u001b[0;31m                 libcppyy_mod_name, major, minor))\n\u001b[0m\u001b[1;32m     65\u001b[0m \u001b[0;34m\u001b[0m\u001b[0m\n\u001b[1;32m     66\u001b[0m \u001b[0;31m# ensure 'import libcppyy' will find the versioned module\u001b[0m\u001b[0;34m\u001b[0m\u001b[0;34m\u001b[0m\u001b[0m\n",
      "\u001b[0;31mImportError\u001b[0m: Failed to import libcppyy3_7. Please check that ROOT has been built for Python 3.7"
     ]
    }
   ],
   "source": [
    "#This is a hack to make the %%cpp work inside mybinder.org - ignore\n",
    "from ROOT import TObject"
   ]
  },
  {
   "cell_type": "code",
   "execution_count": null,
   "metadata": {},
   "outputs": [],
   "source": [
    "%%cpp\n",
    "//Recall we can read a file, get the TTree from it and draw something\n",
    "ttBarFile = TFile::Open(\"http://opendata.atlas.cern/release/samples/MC/mc_117049.ttbar_had.root\");\n",
    "miniTree = static_cast<TTree*>(ttBarFile->Get(\"mini;1\"));\n",
    "TCanvas can;\n",
    "miniTree->Draw(\"jet_pt[0]\");\n",
    "can.Draw()"
   ]
  },
  {
   "cell_type": "code",
   "execution_count": null,
   "metadata": {},
   "outputs": [],
   "source": [
    "%%cpp\n",
    "//Another way to do the same thing uses a RDataFrame\n",
    "//Note we have to explicitly load the library we need - its NOT loaded by default in CLING\n",
    "gSystem->Load(\"$ROOTSYS/lib/libROOTDataFrame.so\");\n",
    "ROOT::RDataFrame myDataFrame(\"mini;1\", \"http://opendata.atlas.cern/release/samples/MC/mc_117049.ttbar_had.root\");\n",
    "auto myHist = myDataFrame.Histo1D(\"jet_pt\");\n",
    "can.Clear();\n",
    "myHist->Draw();\n",
    "can.Draw()"
   ]
  },
  {
   "cell_type": "code",
   "execution_count": null,
   "metadata": {},
   "outputs": [],
   "source": [
    "#Lets repeat in python\n",
    "from ROOT import RDataFrame, TCanvas\n",
    "myPythonDataFrame = RDataFrame(\"mini;1\", \"http://opendata.atlas.cern/release/samples/MC/mc_117049.ttbar_had.root\")\n",
    "myPythonHist = myPythonDataFrame.Histo1D(\"alljet_n\")\n",
    "myPythonCanvas = TCanvas()\n",
    "myPythonHist.Draw()\n",
    "myPythonCanvas.Draw()"
   ]
  },
  {
   "cell_type": "code",
   "execution_count": null,
   "metadata": {
    "scrolled": false
   },
   "outputs": [],
   "source": [
    "#We see above the number of jets varies by event\n",
    "#What if we want to plot the jet_pt for events with exactly four jets?\n",
    "#We do the same thing and add a Filter - the string should be c++ style code (will crash if its invalid..)\n",
    "myJetPtHist = myPythonDataFrame.Filter(\"4 == alljet_n\").Histo1D(\"jet_pt\")\n",
    "myJetPtHist.Draw()\n",
    "myPythonCanvas.Draw()"
   ]
  },
  {
   "cell_type": "code",
   "execution_count": null,
   "metadata": {},
   "outputs": [],
   "source": [
    "#What if we want to plot the leading jet pt only, rather than pt of all jets? Asking to draw jet_pt[0] won't work\n",
    "#So instead we have to define the variable ourselves and we also filter the data to remove events without jets\n",
    "#Otherwise accessing jet_pt[0] would cause a crash due to an invalid entry in the array.\n",
    "myNewDataFrame = myPythonDataFrame.Filter(\"alljet_n > 0\").Define(\"leadingJetPt\",\"return jet_pt[0]\")\n",
    "myLeadingJetPtHist = myNewDataFrame.Histo1D(\"leadingJetPt\")\n",
    "myLeadingJetPtHist.Draw()\n",
    "myPythonCanvas.Draw()\n",
    "#We see this is identical to the histogram we made from the TTree at the start of this workbook."
   ]
  },
  {
   "cell_type": "code",
   "execution_count": null,
   "metadata": {},
   "outputs": [],
   "source": [
    "#Task 1 - create a new data frame with a typical semi-leptonic ttbar event selection consisting of\n",
    "#exactly one lepton, at least four jets and at least one b-tagged jet\n",
    "#Then plot the HT variable - this is the scalar sum of jet pt and Missing ET\n",
    "#Hints: Information about the variables in the open data is here:\n",
    "#http://opendata.atlas.cern/release/2020/documentation/datasets/dataset13.html"
   ]
  },
  {
   "cell_type": "code",
   "execution_count": null,
   "metadata": {},
   "outputs": [],
   "source": [
    "%%cpp\n",
    "//What if we want to filter our data using variables not part of the TTree?\n",
    "//We use lambda capture functions.\n",
    "//First define a cut value to use\n",
    "float ptCut = 20;\n",
    "//Then define a lambda function - it looks like usual in c++, except for the [&ptCut] which\n",
    "//\"captures\" our ptCut variable above and uses it in the function\n",
    "auto ptCutFunction = [&ptCut](double pt){return pt > ptCut;};\n",
    "//Then we first make sure we only use data with 2 jets and 1 lepton\n",
    "auto myFilteredData = myDataFrame.Filter(\"alljet_n >= 2 && lep_n > 1\");\n",
    "//Now use the lambda function inside the Filter function - just name the function and tell\n",
    "//it the name of the variable to pass as the argument (i.e. pt)\n",
    "auto myFilteredDataB = myFilteredData.Define(\"leadingJetPt\",\"return jet_pt[0]\").Filter(ptCutFunction,{\"leadingJetPt\"});\n",
    "//filter it again using the second jet pt\n",
    "auto myFilteredDataC = myFilteredDataB.Define(\"jetPt2\",\"return jet_pt[1]\").Filter(ptCutFunction,{\"jetPt2\"});\n"
   ]
  },
  {
   "cell_type": "code",
   "execution_count": null,
   "metadata": {},
   "outputs": [],
   "source": [
    "#How do we do the same in python?\n",
    "#Well it would look like this...\n",
    "#ptCut = 20\n",
    "#ptCutFunction = lambda pt, ptCut: pt > ptCut\n",
    "#But RDataFrame does not support that, instead we use a special syntax to define via c++\n",
    "import ROOT\n",
    "ROOT.gInterpreter.Declare(\"\"\"\n",
    "auto ptCutFunctionB = [](double pt){return pt > 50;};\n",
    "\"\"\")\n",
    "myFilteredData = myPythonDataFrame.Define(\"leadingJetPt\",\"return jet_pt[0]\").Filter(\"ptCutFunctionB(leadingJetPt)\")"
   ]
  },
  {
   "cell_type": "code",
   "execution_count": null,
   "metadata": {},
   "outputs": [],
   "source": [
    "#Can we make this more pythonic? Yes we can translate to python numpy arrays and eventually a pandas data frame\n",
    "myArray = myPythonDataFrame.AsNumpy(columns=[\"alljet_n\",\"jet_pt\"])\n",
    "import pandas\n",
    "df = pandas.DataFrame(myArray)"
   ]
  },
  {
   "cell_type": "code",
   "execution_count": null,
   "metadata": {},
   "outputs": [],
   "source": [
    "#This looks familiar from Lecture 4, where we got a panda dataframe via uproot\n",
    "df"
   ]
  },
  {
   "cell_type": "code",
   "execution_count": null,
   "metadata": {},
   "outputs": [],
   "source": [
    "#Lets count how many events we have - Count() returns a RResultPtr\n",
    "#https://root.cern/doc/master/classROOT_1_1RDF_1_1RResultPtr.html\n",
    "#which has a method GetValue() which returns the value the smart pointer points to\n",
    "print(myPythonDataFrame.Count().GetValue())\n",
    "print(myPythonDataFrame.Filter(\"alljet_n>0\").Count().GetValue())"
   ]
  },
  {
   "cell_type": "code",
   "execution_count": null,
   "metadata": {},
   "outputs": [],
   "source": [
    "#Task 2 print out a cutflow (i.e. the number of events passing each cut applied) for a typical semi-leptonic selection.\n",
    "#Print out the efficiency too (number of events selected/number of events) of each step."
   ]
  }
 ],
 "metadata": {
  "kernelspec": {
   "display_name": "Python 3",
   "language": "python",
   "name": "python3"
  },
  "language_info": {
   "codemirror_mode": {
    "name": "ipython",
    "version": 3
   },
   "file_extension": ".py",
   "mimetype": "text/x-python",
   "name": "python",
   "nbconvert_exporter": "python",
   "pygments_lexer": "ipython3",
   "version": "3.7.0"
  }
 },
 "nbformat": 4,
 "nbformat_minor": 2
}
