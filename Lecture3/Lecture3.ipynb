{
 "cells": [
  {
   "cell_type": "code",
   "execution_count": null,
   "metadata": {},
   "outputs": [],
   "source": [
    "#This is a hack to make the %%cpp work inside mybinder.org - ignore\n",
    "from ROOT import TObject"
   ]
  },
  {
   "cell_type": "code",
   "execution_count": null,
   "metadata": {},
   "outputs": [],
   "source": [
    "%%cpp\n",
    "//Create a c++ object representing a LorentzVector\n",
    "//More details at https://root.cern.ch/doc/master/classTLorentzVector.html\n",
    "TLorentzVector v;\n",
    "//Print the vectors components - should see all components initialised to zero\n",
    "v.Print()"
   ]
  },
  {
   "cell_type": "code",
   "execution_count": null,
   "metadata": {},
   "outputs": [],
   "source": [
    "%%cpp\n",
    "//We see this does not work, because 1 and 2 are integers.\n",
    "//The template arguments to DeltaPhi must be classes that implement specific methods.\n",
    "double test = ROOT::Math::VectorUtil::DeltaPhi(1,2)"
   ]
  },
  {
   "cell_type": "code",
   "execution_count": null,
   "metadata": {},
   "outputs": [],
   "source": [
    "%%cpp\n",
    "//We try deltaphi again, this time with instances of classes that do implement the required methods.\n",
    "TLorentzVector mark1(0.0,0.0,0.0,0.0);\n",
    "TLorentzVector mark2(0.0,0.0,0.0,0.0);\n",
    "double test = ROOT::Math::VectorUtil::DeltaPhi(mark1,mark2);\n",
    "test"
   ]
  },
  {
   "cell_type": "code",
   "execution_count": null,
   "metadata": {},
   "outputs": [],
   "source": [
    "#Now do the same in python\n",
    "#Don't forget in python we must import each ROOT C++ class we want to use.\n",
    "from ROOT import TLorentzVector\n",
    "mark1 = TLorentzVector(0.0,0.0,0.0,0.0)\n",
    "mark2 = TLorentzVector(0.0,0.0,0.0,0.0)\n",
    "from ROOT import Math\n",
    "#Won't work\n",
    "Math.VectorUtil.DeltaPhi(1,2)"
   ]
  },
  {
   "cell_type": "code",
   "execution_count": null,
   "metadata": {},
   "outputs": [],
   "source": [
    "#Will work\n",
    "Math.VectorUtil.DeltaPhi(mark1,mark2)"
   ]
  },
  {
   "cell_type": "code",
   "execution_count": null,
   "metadata": {},
   "outputs": [],
   "source": [
    "#Task 1\n",
    "#Download https://nbviewer.jupyter.org/url/root.cern/doc/master/notebooks/mathcoreVectorCollection.C.nbconvert.ipynb\n",
    "#and run it.\n",
    "#Note I spotted the last two cells are missing the %%cpp!"
   ]
  },
  {
   "cell_type": "code",
   "execution_count": null,
   "metadata": {},
   "outputs": [],
   "source": [
    "%%cpp\n",
    "//Magic numbers\n",
    "//No need to write \"double M = 0.13957;\" in above example\n",
    "TDatabasePDG db;\n",
    "//If everyone uses it, all code uses consistent numbers in calculations - easier to debug your code\n",
    "//with respect to colleagues codes etc\n",
    "db.GetParticle(211)->Mass()"
   ]
  },
  {
   "cell_type": "code",
   "execution_count": null,
   "metadata": {},
   "outputs": [],
   "source": [
    "%%cpp\n",
    "//Roofit in C++\n",
    "//Each variable, RooRealVar, has a name, title and range\n",
    "//mes has the name \"mes\" and title \"m_{ES} (GeV)\" - we specify the range to be in 5.20 and 5.30\n",
    "//the initial value of the variable will be in the mid-point of that range\n",
    "RooRealVar mes(\"mes\",\"m_{ES} (GeV)\",5.20,5.30);\n",
    "//We can also specify the initial value of a variable - so for sigmean we specify 5.28 and again \n",
    "//a range between 5.20 and 5.30\n",
    "RooRealVar sigmean(\"sigmean\",\"B^{#pm} mass\",5.28,5.20,5.30);\n",
    "RooRealVar sigwidth(\"sigwidth\",\"B^{#pm} width\",0.0027,0.001,1.);\n",
    "//Create a PDF of a Gaussian shape using mes as our data with a mean and width of sigmean and sigwitdh\n",
    "RooGaussian gauss(\"gauss\",\"gaussian PDF\",mes,sigmean,sigwidth);"
   ]
  },
  {
   "cell_type": "code",
   "execution_count": null,
   "metadata": {},
   "outputs": [],
   "source": [
    "%%cpp\n",
    "//Now lets proceed to draw our PDF\n",
    "//First we get a pointer to a RooPlot object, from the RooRealVar mes\n",
    "RooPlot* frame = mes.frame();\n",
    "//Ten we plot our PDF, gauss, onto that RooPlotObject\n",
    "gauss.plotOn(frame);\n",
    "//Then as usual we can create a TCanvas and draw both the RooPlot object and the canvas.\n",
    "TCanvas rooCan;\n",
    "frame->Draw();\n",
    "rooCan.Draw()"
   ]
  },
  {
   "cell_type": "code",
   "execution_count": null,
   "metadata": {},
   "outputs": [],
   "source": [
    "#Roofit example, this time in python\n",
    "#Again note the main difference is that we need to import each c++ class explicitly,\n",
    "#and that variable declaration has a different syntax.\n",
    "#Also note we don't worry about whether a variable is a pointer or not - the \"->\" and \".\" syntax in c++\n",
    "#Here, in python, we just always use \".\"\n",
    "from ROOT import RooRealVar\n",
    "mes = RooRealVar(\"mes\",\"m_{ES} (GeV)\",5.20,5.30)\n",
    "sigmean = RooRealVar(\"sigmean\",\"B^{#pm} mass\",5.28,5.20,5.30)\n",
    "sigwidth = RooRealVar(\"sigwidth\",\"B^{#pm} width\",0.0027,0.001,1.)\n",
    "from ROOT import RooGaussian\n",
    "gauss = RooGaussian(\"gauss\",\"gaussian PDF\",mes,sigmean,sigwidth)"
   ]
  },
  {
   "cell_type": "code",
   "execution_count": null,
   "metadata": {},
   "outputs": [],
   "source": [
    "frame = mes.frame()\n",
    "gauss.plotOn(frame)\n",
    "from ROOT import TCanvas\n",
    "rooCan = TCanvas()\n",
    "frame.Draw()\n",
    "rooCan.Draw()"
   ]
  },
  {
   "cell_type": "code",
   "execution_count": null,
   "metadata": {},
   "outputs": [],
   "source": [
    "#Task2\n",
    "#Create a Landau PDF, along with appropriate parameters and repeat the above workflow shown for the Gaussian case."
   ]
  },
  {
   "cell_type": "code",
   "execution_count": null,
   "metadata": {},
   "outputs": [],
   "source": [
    "#Roofit example with signal and background shapes\n",
    "argpar = RooRealVar(\"argpar\",\"argus shape parameter\",-20.0,-100.,-1.)\n",
    "#This time we also create a parameter with a fixed value using the RooConstVar class\n",
    "from ROOT import RooConstVar\n",
    "argconst = RooConstVar(\"argconst\",\"argus constant\",5.291)\n",
    "#Our background shape will be an Argus function\n",
    "from ROOT import RooArgusBG\n",
    "argus = RooArgusBG(\"argus\",\"Argus PDF\",mes,argconst,argpar)\n",
    "#Eventually we will combine our background and signal shapes\n",
    "#So we create variables to weight those shapes\n",
    "nsig = RooRealVar(\"nsig\",\"#signal events\",200,0.,10000)\n",
    "nbkg = RooRealVar(\"nbkg\",\"#background events\",800,0.,10000) \n",
    "from ROOT import RooAddPdf,RooArgList\n",
    "#Finally we create the full shape which is the sum of a background (Argus) and signal (Gaussian)\n",
    "#The background and signal are weighted by nbkg and nsig\n",
    "sum = RooAddPdf(\"sum\",\"g+a\",RooArgList(gauss,argus),RooArgList(nsig,nbkg))"
   ]
  },
  {
   "cell_type": "code",
   "execution_count": null,
   "metadata": {},
   "outputs": [],
   "source": [
    "from ROOT import RooArgSet\n",
    "#The generate function allows us to generate some Monte Carlo (\"toy Monte Carlo\") events using the PDF shape\n",
    "data = sum.generate(RooArgSet(mes),2000)\n",
    "#Then we can fit the shape to that toy MC data (uses extended ML fit)\n",
    "sum.fitTo(data)\n",
    "mesframe = mes.frame()\n",
    "from ROOT import RooFit,kDashed\n",
    "#We plot three things - the toy MC data, the full background + signal fitted shape, and the Argus fitted shape\n",
    "#Try commenting them out, and doing it one by one to see what they do!\n",
    "data.plotOn(mesframe)\n",
    "sum.plotOn(mesframe)\n",
    "sum.plotOn(mesframe,RooFit.Components(\"argus\"),RooFit.LineStyle(kDashed))\n",
    "rooCan.Clear()\n",
    "mesframe.Draw()\n",
    "#Hint - scroll down to see the plot!\n",
    "rooCan.Draw()"
   ]
  },
  {
   "cell_type": "code",
   "execution_count": null,
   "metadata": {},
   "outputs": [],
   "source": [
    "from ROOT import TFile\n",
    "#Lets get the tree2 file again\n",
    "filePython = TFile(\"../Lecture1/tree2.root\")\n",
    "#define a variable with an appropriate range\n",
    "destep = RooRealVar(\"destep\",\"destep\",15e-06,25e-06)\n",
    "from ROOT import RooDataSet\n",
    "#Get the TTree\n",
    "t2 = filePython.Get(\"t2;1\")\n",
    "#Then we can generate a RooDataset from the TTree and the variable destep\n",
    "data = RooDataSet(\"data\",\"data\",t2,destep)"
   ]
  },
  {
   "cell_type": "code",
   "execution_count": null,
   "metadata": {},
   "outputs": [],
   "source": [
    "#Get a frame from our variable and plot the data on it\n",
    "newFrame = destep.frame()\n",
    "data.plotOn(newFrame)\n",
    "#Then draw the fram on our canvas\n",
    "newFrame.Draw()\n",
    "rooCan.Draw()"
   ]
  },
  {
   "cell_type": "code",
   "execution_count": null,
   "metadata": {},
   "outputs": [],
   "source": [
    "#Task3\n",
    "#Set up a PDF shape and use it to fit the destep data.\n",
    "#What kind of shape works well?\n",
    "#Try it again using the native ROOT fit functionality we saw in previous lectures to compare the methodologies."
   ]
  },
  {
   "cell_type": "code",
   "execution_count": null,
   "metadata": {},
   "outputs": [],
   "source": []
  }
 ],
 "metadata": {
  "kernelspec": {
   "display_name": "Python 3 (ipykernel)",
   "language": "python",
   "name": "python3"
  },
  "language_info": {
   "codemirror_mode": {
    "name": "ipython",
    "version": 3
   },
   "file_extension": ".py",
   "mimetype": "text/x-python",
   "name": "python",
   "nbconvert_exporter": "python",
   "pygments_lexer": "ipython3",
   "version": "3.12.7"
  }
 },
 "nbformat": 4,
 "nbformat_minor": 4
}
