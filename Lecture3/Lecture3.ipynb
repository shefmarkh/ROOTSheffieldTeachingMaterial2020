{
 "cells": [
  {
   "cell_type": "code",
   "execution_count": null,
   "metadata": {},
   "outputs": [],
   "source": [
    "#This is a hack to make the %%cpp work inside mybinder.org - ignore\n",
    "from ROOT import TObject"
   ]
  },
  {
   "cell_type": "code",
   "execution_count": null,
   "metadata": {},
   "outputs": [],
   "source": [
    "%%cpp\n",
    "//Create a c++ object representing a LorentzVector\n",
    "//More details at https://root.cern.ch/doc/master/classTLorentzVector.html\n",
    "TLorentzVector v;\n",
    "//Print the vectors components - should see all components initialised to zero\n",
    "v.Print()"
   ]
  },
  {
   "cell_type": "code",
   "execution_count": null,
   "metadata": {},
   "outputs": [],
   "source": [
    "%%cpp\n",
    "//We see this does not work, because 1 and 2 are integers.\n",
    "//The template arguments to DeltaPhi must be classes that implement specific methods.\n",
    "double test = ROOT::Math::VectorUtil::DeltaPhi(1,2)"
   ]
  },
  {
   "cell_type": "code",
   "execution_count": null,
   "metadata": {},
   "outputs": [],
   "source": [
    "%%cpp\n",
    "//We try deltaphi again, this time with instances of classes that do implement the required methods.\n",
    "TLorentzVector mark1(0.0,0.0,0.0,0.0);\n",
    "TLorentzVector mark2(0.0,0.0,0.0,0.0);\n",
    "double test = ROOT::Math::VectorUtil::DeltaPhi(mark1,mark2);\n",
    "test"
   ]
  },
  {
   "cell_type": "code",
   "execution_count": null,
   "metadata": {},
   "outputs": [],
   "source": [
    "#Now do the same in python\n",
    "#Don't forget in python we must import each ROOT C++ class we want to use.\n",
    "from ROOT import TLorentzVector\n",
    "mark1 = TLorentzVector(0.0,0.0,0.0,0.0)\n",
    "mark2 = TLorentzVector(0.0,0.0,0.0,0.0)\n",
    "from ROOT import Math\n",
    "#Won't work\n",
    "Math.VectorUtil.DeltaPhi(1,2)"
   ]
  },
  {
   "cell_type": "code",
   "execution_count": null,
   "metadata": {},
   "outputs": [],
   "source": [
    "#Will work\n",
    "Math.VectorUtil.DeltaPhi(mark1,mark2)"
   ]
  },
  {
   "cell_type": "code",
   "execution_count": null,
   "metadata": {},
   "outputs": [],
   "source": [
    "#Task 1\n",
    "#Download https://nbviewer.jupyter.org/url/root.cern/doc/master/notebooks/mathcoreVectorCollection.C.nbconvert.ipynb\n",
    "#and run it.\n",
    "#Note I spotted the last two cells are missing the %%cpp!"
   ]
  },
  {
   "cell_type": "code",
   "execution_count": null,
   "metadata": {},
   "outputs": [],
   "source": [
    "%%cpp\n",
    "//Magic numbers\n",
    "//No need to write \"double M = 0.13957;\" in above example\n",
    "TDatabasePDG db;\n",
    "//If everyone uses it, all code uses consistent numbers in calculations - easier to debug your code\n",
    "//with respect to colleagues codes etc\n",
    "db.GetParticle(211)->Mass()"
   ]
  },
  {
   "cell_type": "code",
   "execution_count": null,
   "metadata": {},
   "outputs": [],
   "source": [
    "from ROOT import TFile\n",
    "#You can find more ATLAS open datasets at http://opendata.atlas.cern/extendedanalysis/datasets.php\n",
    "#You can open this directly via the URL - note its likely faster to have a local copy wherever you run\n",
    "#the notebook\n",
    "zTauTauFile = TFile.Open(\"http://opendata.atlas.cern/release/samples/MC/mc_147772.Ztautau.root\")\n",
    "myTree = zTauTauFile.Get(\"mini;1\")\n",
    "from ROOT import TCanvas\n",
    "can = TCanvas()\n",
    "can.cd()\n",
    "myTree.Draw(\"lep_pt\")\n",
    "#If reading over URL, be patient - will take a few minutes for plot to appear!\n",
    "can.Draw()"
   ]
  },
  {
   "cell_type": "code",
   "execution_count": null,
   "metadata": {},
   "outputs": [],
   "source": [
    "#Task 2\n",
    "#Use the Ztautau open data to plot the invariant mass of ZCandidates\n",
    "#Hints: The Z always decays to two tau particles in this Monte Carlo Simulation. \n",
    "#Hints: The reconstructed tau candidates are represented by the lep_ variables."
   ]
  }
 ],
 "metadata": {
  "kernelspec": {
   "display_name": "Python 3",
   "language": "python",
   "name": "python3"
  },
  "language_info": {
   "codemirror_mode": {
    "name": "ipython",
    "version": 3
   },
   "file_extension": ".py",
   "mimetype": "text/x-python",
   "name": "python",
   "nbconvert_exporter": "python",
   "pygments_lexer": "ipython3",
   "version": "3.7.0"
  }
 },
 "nbformat": 4,
 "nbformat_minor": 2
}
