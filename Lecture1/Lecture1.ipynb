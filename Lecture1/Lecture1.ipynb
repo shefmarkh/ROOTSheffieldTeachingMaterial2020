{
 "cells": [
  {
   "cell_type": "code",
   "execution_count": 1,
   "metadata": {},
   "outputs": [
    {
     "ename": "ImportError",
     "evalue": "Failed to import libcppyy3_7. Please check that ROOT has been built for Python 3.7",
     "output_type": "error",
     "traceback": [
      "\u001b[0;31m---------------------------------------------------------------------------\u001b[0m",
      "\u001b[0;31mModuleNotFoundError\u001b[0m                       Traceback (most recent call last)",
      "\u001b[0;32m/Applications/root_v6.22.06/lib/cppyy/__init__.py\u001b[0m in \u001b[0;36m<module>\u001b[0;34m\u001b[0m\n\u001b[1;32m     59\u001b[0m \u001b[0;32mtry\u001b[0m\u001b[0;34m:\u001b[0m\u001b[0;34m\u001b[0m\u001b[0m\n\u001b[0;32m---> 60\u001b[0;31m     \u001b[0mimportlib\u001b[0m\u001b[0;34m.\u001b[0m\u001b[0mimport_module\u001b[0m\u001b[0;34m(\u001b[0m\u001b[0mlibcppyy_mod_name\u001b[0m\u001b[0;34m)\u001b[0m\u001b[0;34m\u001b[0m\u001b[0m\n\u001b[0m\u001b[1;32m     61\u001b[0m \u001b[0;32mexcept\u001b[0m \u001b[0mImportError\u001b[0m\u001b[0;34m:\u001b[0m\u001b[0;34m\u001b[0m\u001b[0m\n",
      "\u001b[0;32m/Library/Frameworks/Python.framework/Versions/3.7/lib/python3.7/importlib/__init__.py\u001b[0m in \u001b[0;36mimport_module\u001b[0;34m(name, package)\u001b[0m\n\u001b[1;32m    126\u001b[0m             \u001b[0mlevel\u001b[0m \u001b[0;34m+=\u001b[0m \u001b[0;36m1\u001b[0m\u001b[0;34m\u001b[0m\u001b[0m\n\u001b[0;32m--> 127\u001b[0;31m     \u001b[0;32mreturn\u001b[0m \u001b[0m_bootstrap\u001b[0m\u001b[0;34m.\u001b[0m\u001b[0m_gcd_import\u001b[0m\u001b[0;34m(\u001b[0m\u001b[0mname\u001b[0m\u001b[0;34m[\u001b[0m\u001b[0mlevel\u001b[0m\u001b[0;34m:\u001b[0m\u001b[0;34m]\u001b[0m\u001b[0;34m,\u001b[0m \u001b[0mpackage\u001b[0m\u001b[0;34m,\u001b[0m \u001b[0mlevel\u001b[0m\u001b[0;34m)\u001b[0m\u001b[0;34m\u001b[0m\u001b[0m\n\u001b[0m\u001b[1;32m    128\u001b[0m \u001b[0;34m\u001b[0m\u001b[0m\n",
      "\u001b[0;32m/Library/Frameworks/Python.framework/Versions/3.7/lib/python3.7/importlib/_bootstrap.py\u001b[0m in \u001b[0;36m_gcd_import\u001b[0;34m(name, package, level)\u001b[0m\n",
      "\u001b[0;32m/Library/Frameworks/Python.framework/Versions/3.7/lib/python3.7/importlib/_bootstrap.py\u001b[0m in \u001b[0;36m_find_and_load\u001b[0;34m(name, import_)\u001b[0m\n",
      "\u001b[0;32m/Library/Frameworks/Python.framework/Versions/3.7/lib/python3.7/importlib/_bootstrap.py\u001b[0m in \u001b[0;36m_find_and_load_unlocked\u001b[0;34m(name, import_)\u001b[0m\n",
      "\u001b[0;31mModuleNotFoundError\u001b[0m: No module named 'libcppyy3_7'",
      "\nDuring handling of the above exception, another exception occurred:\n",
      "\u001b[0;31mImportError\u001b[0m                               Traceback (most recent call last)",
      "\u001b[0;32m<ipython-input-1-06c94ae5df28>\u001b[0m in \u001b[0;36m<module>\u001b[0;34m\u001b[0m\n\u001b[1;32m      1\u001b[0m \u001b[0;31m#This is a hack to make the %%cpp work inside mybinder.org - ignore\u001b[0m\u001b[0;34m\u001b[0m\u001b[0;34m\u001b[0m\u001b[0m\n\u001b[0;32m----> 2\u001b[0;31m \u001b[0;32mfrom\u001b[0m \u001b[0mROOT\u001b[0m \u001b[0;32mimport\u001b[0m \u001b[0mTObject\u001b[0m\u001b[0;34m\u001b[0m\u001b[0m\n\u001b[0m",
      "\u001b[0;32m/Applications/root_v6.22.06/lib/ROOT/__init__.py\u001b[0m in \u001b[0;36m<module>\u001b[0;34m\u001b[0m\n\u001b[1;32m     20\u001b[0m \u001b[0menviron\u001b[0m\u001b[0;34m[\u001b[0m\u001b[0;34m'CPPYY_NO_ROOT_FILTER'\u001b[0m\u001b[0;34m]\u001b[0m \u001b[0;34m=\u001b[0m \u001b[0;34m'1'\u001b[0m\u001b[0;34m\u001b[0m\u001b[0m\n\u001b[1;32m     21\u001b[0m \u001b[0;34m\u001b[0m\u001b[0m\n\u001b[0;32m---> 22\u001b[0;31m \u001b[0;32mimport\u001b[0m \u001b[0mcppyy\u001b[0m\u001b[0;34m\u001b[0m\u001b[0m\n\u001b[0m\u001b[1;32m     23\u001b[0m \u001b[0;32mif\u001b[0m \u001b[0;32mnot\u001b[0m \u001b[0;34m'ROOTSYS'\u001b[0m \u001b[0;32min\u001b[0m \u001b[0menviron\u001b[0m\u001b[0;34m:\u001b[0m\u001b[0;34m\u001b[0m\u001b[0m\n\u001b[1;32m     24\u001b[0m     \u001b[0;31m# Revert setting made by cppyy\u001b[0m\u001b[0;34m\u001b[0m\u001b[0;34m\u001b[0m\u001b[0m\n",
      "\u001b[0;32m/Applications/root_v6.22.06/lib/cppyy/__init__.py\u001b[0m in \u001b[0;36m<module>\u001b[0;34m\u001b[0m\n\u001b[1;32m     62\u001b[0m     raise ImportError(\n\u001b[1;32m     63\u001b[0m             'Failed to import {}. Please check that ROOT has been built for Python {}.{}'.format(\n\u001b[0;32m---> 64\u001b[0;31m                 libcppyy_mod_name, major, minor))\n\u001b[0m\u001b[1;32m     65\u001b[0m \u001b[0;34m\u001b[0m\u001b[0m\n\u001b[1;32m     66\u001b[0m \u001b[0;31m# ensure 'import libcppyy' will find the versioned module\u001b[0m\u001b[0;34m\u001b[0m\u001b[0;34m\u001b[0m\u001b[0m\n",
      "\u001b[0;31mImportError\u001b[0m: Failed to import libcppyy3_7. Please check that ROOT has been built for Python 3.7"
     ]
    }
   ],
   "source": [
    "#This is a hack to make the %%cpp work inside mybinder.org - ignore\n",
    "from ROOT import TObject"
   ]
  },
  {
   "cell_type": "code",
   "execution_count": null,
   "metadata": {
    "scrolled": true
   },
   "outputs": [],
   "source": [
    "%%cpp\n",
    "//We specify that we are writing C++, rather than python, with the above %%cpp\n",
    "//Create a histogram with 100 bins and a range from -10 to 10 with name \"h\" and titile \"My First Histogam\"\n",
    "//The name 'h' must be unique - ROOT has an internal map of histogram names to memory locations, so each\n",
    "//name must map to one location.\n",
    "TH1F hist(\"h\",\"My First Histogram;x {0}; frequency\",100,10,10);\n",
    "//Fill it with 2000 random numbers drawn from a Gaussian shape\n",
    "hist.FillRandom(\"gaus\",2000);"
   ]
  },
  {
   "cell_type": "code",
   "execution_count": null,
   "metadata": {},
   "outputs": [],
   "source": [
    "%%cpp\n",
    "//Note when using ROOT from a linux terminal, it turns out you can skip the two lines about the TCanvas - \n",
    "//this happens automatically behind the scenes\n",
    "TCanvas can;\n",
    "hist.Draw();\n",
    "can.Draw();"
   ]
  },
  {
   "cell_type": "code",
   "execution_count": null,
   "metadata": {},
   "outputs": [],
   "source": [
    "#Now lets try the same in python\n",
    "#In the python case we have to explicitly ask to import the classes (TH1F, TCanvas) that we will use.\n",
    "#We did not have to do anything equivalent in the C++ example above, executed in CLING c++ - CLING C++ is aware \n",
    "#of the ROOT libraries by default, python is not aware by default (hence the need for import statements). \n",
    "from ROOT import TH1F, TCanvas\n",
    "histPython = TH1F(\"hPython\",\"My First Histogram;x {0}; frequency\",100,10,10)\n",
    "histPython.FillRandom(\"gaus\",2000);\n",
    "canPython = TCanvas()\n",
    "histPython.Draw()\n",
    "canPython.Draw()"
   ]
  },
  {
   "cell_type": "code",
   "execution_count": null,
   "metadata": {},
   "outputs": [],
   "source": [
    "#Task 1 - fill a histogram with a landau function and draw it. Use either C++ or python."
   ]
  },
  {
   "cell_type": "code",
   "execution_count": null,
   "metadata": {},
   "outputs": [],
   "source": [
    "%%cpp\n",
    "//Now lets look at unbinned data and graphs\n",
    "//define arrays of floats x and y\n",
    "float x[10];\n",
    "float y[10];\n",
    "//fill the arrays up with some data\n",
    "for (int i = 0; i < 10; ++i) {x[i]=i+1;y[i]=x[i]*x[i];}"
   ]
  },
  {
   "cell_type": "code",
   "execution_count": null,
   "metadata": {},
   "outputs": [],
   "source": [
    "%%cpp\n",
    "//Now create a TGraph using the above data - we specify 10 bins (to match the array sizes of 10) and the arrays\n",
    "//x and y to use for the data.\n",
    "TGraph myGraph(10,x,y);\n",
    "//Then create a TCanvas, cd into it and draw both the TGraph and the TCanvas\n",
    "TCanvas canGraph;\n",
    "canGraph.cd();\n",
    "myGraph.Draw();\n",
    "canGraph.Draw();"
   ]
  },
  {
   "cell_type": "code",
   "execution_count": null,
   "metadata": {},
   "outputs": [],
   "source": [
    "#Now lets do the same in python - note the way we fill arrays is very different to c++!\n",
    "from ROOT import TGraph\n",
    "n=10\n",
    "from array import array\n",
    "x=array('f')\n",
    "y=array('f')\n",
    "for counter in range(n):\n",
    "    x.append(counter+1)\n",
    "    y.append(x[counter]*x[counter])"
   ]
  },
  {
   "cell_type": "code",
   "execution_count": null,
   "metadata": {
    "scrolled": false
   },
   "outputs": [],
   "source": [
    "myGraph = TGraph(n,x,y)\n",
    "#Note we cd into our canvas sued for python, and empty it with the Clear() function - that is because we have already\n",
    "#drawn on this canvas above. The new drawing won't appear without first doing that.\n",
    "canPython.cd()\n",
    "canPython.Clear()\n",
    "myGraph.Draw()\n",
    "canPython.Draw()"
   ]
  },
  {
   "cell_type": "code",
   "execution_count": null,
   "metadata": {},
   "outputs": [],
   "source": [
    "#Fitting - we can fit any predefined shape to the graph\n",
    "#Lets try a Gaussian shape ('gaus')\n",
    "myGraph.Fit(\"gaus\")\n",
    "#Then we have to draw the graph again, followed by drawing the canvas again.\n",
    "myGraph.Draw()\n",
    "canPython.Draw()\n",
    "#The c++ code would be very similar.\n",
    "#How well does the fit reproduce the data?\n",
    "#Note that in a ROOT session in a linux terminal, you could do the fit by right-clicking on your data curve\n",
    "#and selecting appropriate options on the GUI. The GUI's are not supported in Jupyter unfortunately."
   ]
  },
  {
   "cell_type": "code",
   "execution_count": null,
   "metadata": {},
   "outputs": [],
   "source": [
    "#Task 2 - Can you work out which shape would fit the data best?\n",
    "#Hint: Look in section 7.2.1 to find out about predefined fit function shapes:\n",
    "#https://root.cern.ch/root/htmldoc/guides/users-guide/FittingHistograms.html"
   ]
  },
  {
   "cell_type": "code",
   "execution_count": null,
   "metadata": {},
   "outputs": [],
   "source": [
    "#Example of how to fill a txt file with data and then create a TGraph from it\n",
    "#The C++ equivalent, shown in the lecture notes, is not shown because C++ IO is not supported in Jupyter via %%cpp.\n",
    "from ROOT import TMath\n",
    "fout = open(\"testData.txt\",\"w\")\n",
    "counter = TMath.Pi()\n",
    "while counter <= TMath.TwoPi():\n",
    "    value = (counter,TMath.Sin(counter))\n",
    "    valueString = ' '.join(map(str,value))\n",
    "    valueString += \"\\n\"\n",
    "    fout.write(valueString)\n",
    "    counter+=TMath.Pi()/500\n",
    "fout.close()\n",
    "from ROOT import TGraph\n",
    "myGraph = TGraph(\"testData.txt\")\n",
    "from ROOT import TCanvas\n",
    "canPythonDataGraph = TCanvas()\n",
    "canPythonDataGraph.cd()\n",
    "myGraph.Draw()\n",
    "canPythonDataGraph.Draw()"
   ]
  },
  {
   "cell_type": "code",
   "execution_count": null,
   "metadata": {},
   "outputs": [],
   "source": [
    "#Task 4 - create a data file with a cosine function, then create a TGraph from that and plot it.\n",
    "#Then also perform a fit to it.\n",
    "#Hint - for the latter you would need a user defined fit function, as discussed in section 7.2.2.1\n",
    "#https://root.cern.ch/root/htmldoc/guides/users-guide/FittingHistograms.html\n",
    "#and use it in your call to Fit()"
   ]
  },
  {
   "cell_type": "code",
   "execution_count": null,
   "metadata": {},
   "outputs": [],
   "source": [
    "%%cpp\n",
    "//Load the file tree2.root via the TFile object\n",
    "TFile f(\"tree2.root\");\n",
    "//print the contents of the file\n",
    "f.ls();\n",
    "//Note we can't use the TBrowser shown in the lecture notes inside a Jupyter notebook\n",
    "//But we can still print properties of the tree t2\n",
    "t2 = (TTree*)f.Get(\"t2;1\");\n",
    "t2->GetListOfBranches()->Print();"
   ]
  },
  {
   "cell_type": "code",
   "execution_count": null,
   "metadata": {},
   "outputs": [],
   "source": [
    "#The same thing in python\n",
    "from ROOT import TFile\n",
    "myFile = TFile(\"tree2.root\")\n",
    "t2p = myFile.Get(\"t2;1\")\n",
    "t2p.GetListOfBranches().Print()"
   ]
  },
  {
   "cell_type": "code",
   "execution_count": null,
   "metadata": {},
   "outputs": [],
   "source": [
    "%%cpp\n",
    "TCanvas canTree;\n",
    "canTree.cd();\n",
    "//Draw 3D plot of vector components against each other, only for events with pid of 1\n",
    "t2->Draw(\"vect[0]:vect[1]:vect[2]\",\"1 == pid\");\n",
    "canTree.Draw();"
   ]
  },
  {
   "cell_type": "code",
   "execution_count": null,
   "metadata": {},
   "outputs": [],
   "source": [
    "#Task 6 (Task 5 is in the lecture slides!)\n",
    "#Draw the 3D plot of vect components with and without cuts applied, as shown in the lecture notes.\n",
    "#Try out other choices of cuts, first scanning the variable you want to cut on in order to see possible values"
   ]
  },
  {
   "cell_type": "code",
   "execution_count": null,
   "metadata": {},
   "outputs": [],
   "source": [
    "%%cpp\n",
    "t2->Draw(\"destep>>hDEStep\",\"destep\");\n",
    "h2 = static_cast<TH1F*>(gDirectory->Get(\"hDEStep\"));\n",
    "h2->GetMean()"
   ]
  },
  {
   "cell_type": "code",
   "execution_count": null,
   "metadata": {},
   "outputs": [],
   "source": [
    "%%cpp\n",
    "//Create an odd and even histogram for events with odd or even values of the pid variable\n",
    "t2->Draw(\"destep>>hEven\",\"!(pid%2)\");\n",
    "//Retrieve from the global directory, which is where the above command put hEven\n",
    "hEven = static_cast<TH1F*>(gDirectory->Get(\"hEven\"));\n",
    "t2->Draw(\"destep>>hOdd\",\"(pid%2)\");\n",
    "hOdd = static_cast<TH1F*>(gDirectory->Get(\"hOdd\"));\n",
    "//Scale both histograms to unity via a factor of 1 divided by their areas\n",
    "hEven->Scale(1./hEven->Integral());\n",
    "hOdd->Scale(1./hOdd->Integral());\n",
    "//Make a copy of the even histogram\n",
    "TH1F hDiff(*hEven);\n",
    "//And then add the odd histogram to that with a weight of -1\n",
    "hDiff.Add(hOdd,-1);\n",
    "can.cd();\n",
    "can.Clear();\n",
    "hDiff.Draw();\n",
    "can.Draw();"
   ]
  },
  {
   "cell_type": "code",
   "execution_count": null,
   "metadata": {
    "scrolled": true
   },
   "outputs": [],
   "source": [
    "#The same in python\n",
    "t2p.Draw(\"destep>>hEven_TH1F\",\"!(pid%2)\")\n",
    "#Import the global directory, which is where the above command put hEven_TH1F\n",
    "from ROOT import gDirectory\n",
    "#Retrieve from the global directory, which is where the above command put hEven\n",
    "hEven_TH1F = gDirectory.Get(\"hEven_TH1F\")\n",
    "#Scale histogram to unity via a factor of 1 divided by its area\n",
    "hEven_TH1F.Scale(1./hEven_TH1F.Integral())\n",
    "#Repeat for odd case\n",
    "t2p.Draw(\"destep>>hOdd_TH1F\",\"(pid%2)\")\n",
    "hOdd_TH1F = gDirectory.Get(\"hOdd_TH1F\")\n",
    "#Make a copy of the even histogram\n",
    "hDiff = TH1F(hEven_TH1F)\n",
    "#And then add the odd histogram to that with a weight of -1\n",
    "hDiff.Add(hOdd_TH1F,-1)\n",
    "canPythonOddEven = TCanvas()\n",
    "canPythonOddEven.cd()\n",
    "hDiff.Draw()\n",
    "canPythonOddEven.Draw()"
   ]
  },
  {
   "cell_type": "code",
   "execution_count": null,
   "metadata": {},
   "outputs": [],
   "source": []
  }
 ],
 "metadata": {
  "kernelspec": {
   "display_name": "Python 3",
   "language": "python",
   "name": "python3"
  },
  "language_info": {
   "codemirror_mode": {
    "name": "ipython",
    "version": 3
   },
   "file_extension": ".py",
   "mimetype": "text/x-python",
   "name": "python",
   "nbconvert_exporter": "python",
   "pygments_lexer": "ipython3",
   "version": "3.7.0"
  }
 },
 "nbformat": 4,
 "nbformat_minor": 2
}
